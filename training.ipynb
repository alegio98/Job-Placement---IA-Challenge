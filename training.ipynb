{
 "cells": [
  {
   "cell_type": "code",
   "execution_count": 1,
   "id": "faf81129",
   "metadata": {},
   "outputs": [
    {
     "name": "stdout",
     "output_type": "stream",
     "text": [
      "\u001b[33mWARNING: Value for scheme.platlib does not match. Please report this to <https://github.com/pypa/pip/issues/9617>\n",
      "distutils: /usr/local/lib/python3.8/dist-packages\n",
      "sysconfig: /usr/lib/python3.8/site-packages\u001b[0m\n",
      "\u001b[33mWARNING: Value for scheme.purelib does not match. Please report this to <https://github.com/pypa/pip/issues/9617>\n",
      "distutils: /usr/local/lib/python3.8/dist-packages\n",
      "sysconfig: /usr/lib/python3.8/site-packages\u001b[0m\n",
      "\u001b[33mWARNING: Value for scheme.headers does not match. Please report this to <https://github.com/pypa/pip/issues/9617>\n",
      "distutils: /usr/local/include/python3.8/UNKNOWN\n",
      "sysconfig: /usr/include/python3.8\u001b[0m\n",
      "\u001b[33mWARNING: Value for scheme.scripts does not match. Please report this to <https://github.com/pypa/pip/issues/9617>\n",
      "distutils: /usr/local/bin\n",
      "sysconfig: /usr/bin\u001b[0m\n",
      "\u001b[33mWARNING: Value for scheme.data does not match. Please report this to <https://github.com/pypa/pip/issues/9617>\n",
      "distutils: /usr/local\n",
      "sysconfig: /usr\u001b[0m\n",
      "\u001b[33mWARNING: Additional context:\n",
      "user = False\n",
      "home = None\n",
      "root = None\n",
      "prefix = None\u001b[0m\n",
      "Defaulting to user installation because normal site-packages is not writeable\n",
      "Requirement already satisfied: seaborn in /home/alessandro/.local/lib/python3.8/site-packages (0.11.1)\n",
      "Requirement already satisfied: matplotlib>=2.2 in /home/alessandro/.local/lib/python3.8/site-packages (from seaborn) (3.4.3)\n",
      "Requirement already satisfied: scipy>=1.0 in /home/alessandro/.local/lib/python3.8/site-packages (from seaborn) (1.7.1)\n",
      "Requirement already satisfied: pandas>=0.23 in /home/alessandro/.local/lib/python3.8/site-packages (from seaborn) (1.2.4)\n",
      "Requirement already satisfied: numpy>=1.15 in /home/alessandro/.local/lib/python3.8/site-packages (from seaborn) (1.19.5)\n",
      "Requirement already satisfied: cycler>=0.10 in /home/alessandro/.local/lib/python3.8/site-packages (from matplotlib>=2.2->seaborn) (0.10.0)\n",
      "Requirement already satisfied: python-dateutil>=2.7 in /usr/lib/python3/dist-packages (from matplotlib>=2.2->seaborn) (2.7.3)\n",
      "Requirement already satisfied: pillow>=6.2.0 in /usr/lib/python3/dist-packages (from matplotlib>=2.2->seaborn) (7.0.0)\n",
      "Requirement already satisfied: pyparsing>=2.2.1 in /home/alessandro/.local/lib/python3.8/site-packages (from matplotlib>=2.2->seaborn) (2.4.7)\n",
      "Requirement already satisfied: kiwisolver>=1.0.1 in /home/alessandro/.local/lib/python3.8/site-packages (from matplotlib>=2.2->seaborn) (1.3.1)\n",
      "Requirement already satisfied: six in /home/alessandro/.local/lib/python3.8/site-packages (from cycler>=0.10->matplotlib>=2.2->seaborn) (1.15.0)\n",
      "Requirement already satisfied: pytz>=2017.3 in /usr/lib/python3/dist-packages (from pandas>=0.23->seaborn) (2019.3)\n",
      "\u001b[33mWARNING: Value for scheme.headers does not match. Please report this to <https://github.com/pypa/pip/issues/9617>\n",
      "distutils: /home/alessandro/.local/include/python3.8/UNKNOWN\n",
      "sysconfig: /home/alessandro/.local/include/python3.8\u001b[0m\n",
      "\u001b[33mWARNING: Additional context:\n",
      "user = True\n",
      "home = None\n",
      "root = None\n",
      "prefix = None\u001b[0m\n",
      "\u001b[33mWARNING: You are using pip version 21.1; however, version 21.2.4 is available.\n",
      "You should consider upgrading via the '/usr/bin/python3 -m pip install --upgrade pip' command.\u001b[0m\n",
      "\u001b[33mWARNING: Value for scheme.platlib does not match. Please report this to <https://github.com/pypa/pip/issues/9617>\n",
      "distutils: /usr/local/lib/python3.8/dist-packages\n",
      "sysconfig: /usr/lib/python3.8/site-packages\u001b[0m\n",
      "\u001b[33mWARNING: Value for scheme.purelib does not match. Please report this to <https://github.com/pypa/pip/issues/9617>\n",
      "distutils: /usr/local/lib/python3.8/dist-packages\n",
      "sysconfig: /usr/lib/python3.8/site-packages\u001b[0m\n",
      "\u001b[33mWARNING: Value for scheme.headers does not match. Please report this to <https://github.com/pypa/pip/issues/9617>\n",
      "distutils: /usr/local/include/python3.8/UNKNOWN\n",
      "sysconfig: /usr/include/python3.8\u001b[0m\n",
      "\u001b[33mWARNING: Value for scheme.scripts does not match. Please report this to <https://github.com/pypa/pip/issues/9617>\n",
      "distutils: /usr/local/bin\n",
      "sysconfig: /usr/bin\u001b[0m\n",
      "\u001b[33mWARNING: Value for scheme.data does not match. Please report this to <https://github.com/pypa/pip/issues/9617>\n",
      "distutils: /usr/local\n",
      "sysconfig: /usr\u001b[0m\n",
      "\u001b[33mWARNING: Additional context:\n",
      "user = False\n",
      "home = None\n",
      "root = None\n",
      "prefix = None\u001b[0m\n",
      "Defaulting to user installation because normal site-packages is not writeable\n",
      "Requirement already satisfied: tensorflow in /home/alessandro/.local/lib/python3.8/site-packages (2.5.0)\n",
      "Requirement already satisfied: termcolor~=1.1.0 in /home/alessandro/.local/lib/python3.8/site-packages (from tensorflow) (1.1.0)\n",
      "Requirement already satisfied: keras-preprocessing~=1.1.2 in /home/alessandro/.local/lib/python3.8/site-packages (from tensorflow) (1.1.2)\n",
      "Requirement already satisfied: wrapt~=1.12.1 in /home/alessandro/.local/lib/python3.8/site-packages (from tensorflow) (1.12.1)\n",
      "Requirement already satisfied: tensorflow-estimator<2.6.0,>=2.5.0rc0 in /home/alessandro/.local/lib/python3.8/site-packages (from tensorflow) (2.5.0)\n",
      "Requirement already satisfied: six~=1.15.0 in /home/alessandro/.local/lib/python3.8/site-packages (from tensorflow) (1.15.0)\n",
      "Requirement already satisfied: numpy~=1.19.2 in /home/alessandro/.local/lib/python3.8/site-packages (from tensorflow) (1.19.5)\n",
      "Requirement already satisfied: absl-py~=0.10 in /home/alessandro/.local/lib/python3.8/site-packages (from tensorflow) (0.12.0)\n",
      "Requirement already satisfied: grpcio~=1.34.0 in /home/alessandro/.local/lib/python3.8/site-packages (from tensorflow) (1.34.1)\n",
      "Requirement already satisfied: h5py~=3.1.0 in /home/alessandro/.local/lib/python3.8/site-packages (from tensorflow) (3.1.0)\n",
      "Requirement already satisfied: flatbuffers~=1.12.0 in /home/alessandro/.local/lib/python3.8/site-packages (from tensorflow) (1.12)\n",
      "Requirement already satisfied: google-pasta~=0.2 in /home/alessandro/.local/lib/python3.8/site-packages (from tensorflow) (0.2.0)\n",
      "Requirement already satisfied: wheel~=0.35 in /home/alessandro/.local/lib/python3.8/site-packages (from tensorflow) (0.36.2)\n",
      "Requirement already satisfied: opt-einsum~=3.3.0 in /home/alessandro/.local/lib/python3.8/site-packages (from tensorflow) (3.3.0)\n",
      "Requirement already satisfied: gast==0.4.0 in /home/alessandro/.local/lib/python3.8/site-packages (from tensorflow) (0.4.0)\n",
      "Requirement already satisfied: tensorboard~=2.5 in /home/alessandro/.local/lib/python3.8/site-packages (from tensorflow) (2.5.0)\n",
      "Requirement already satisfied: astunparse~=1.6.3 in /home/alessandro/.local/lib/python3.8/site-packages (from tensorflow) (1.6.3)\n",
      "Requirement already satisfied: typing-extensions~=3.7.4 in /home/alessandro/.local/lib/python3.8/site-packages (from tensorflow) (3.7.4.3)\n",
      "Requirement already satisfied: keras-nightly~=2.5.0.dev in /home/alessandro/.local/lib/python3.8/site-packages (from tensorflow) (2.5.0.dev2021032900)\n",
      "Requirement already satisfied: protobuf>=3.9.2 in /home/alessandro/.local/lib/python3.8/site-packages (from tensorflow) (3.17.1)\n",
      "Requirement already satisfied: requests<3,>=2.21.0 in /usr/lib/python3/dist-packages (from tensorboard~=2.5->tensorflow) (2.22.0)\n",
      "Requirement already satisfied: setuptools>=41.0.0 in /usr/lib/python3/dist-packages (from tensorboard~=2.5->tensorflow) (45.2.0)\n",
      "Requirement already satisfied: google-auth-oauthlib<0.5,>=0.4.1 in /home/alessandro/.local/lib/python3.8/site-packages (from tensorboard~=2.5->tensorflow) (0.4.4)\n",
      "Requirement already satisfied: tensorboard-data-server<0.7.0,>=0.6.0 in /home/alessandro/.local/lib/python3.8/site-packages (from tensorboard~=2.5->tensorflow) (0.6.1)\n",
      "Requirement already satisfied: google-auth<2,>=1.6.3 in /home/alessandro/.local/lib/python3.8/site-packages (from tensorboard~=2.5->tensorflow) (1.30.1)\n",
      "Requirement already satisfied: tensorboard-plugin-wit>=1.6.0 in /home/alessandro/.local/lib/python3.8/site-packages (from tensorboard~=2.5->tensorflow) (1.8.0)\n",
      "Requirement already satisfied: werkzeug>=0.11.15 in /home/alessandro/.local/lib/python3.8/site-packages (from tensorboard~=2.5->tensorflow) (2.0.1)\n",
      "Requirement already satisfied: markdown>=2.6.8 in /home/alessandro/.local/lib/python3.8/site-packages (from tensorboard~=2.5->tensorflow) (3.3.4)\n",
      "Requirement already satisfied: rsa<5,>=3.1.4 in /home/alessandro/.local/lib/python3.8/site-packages (from google-auth<2,>=1.6.3->tensorboard~=2.5->tensorflow) (4.7.2)\n",
      "Requirement already satisfied: cachetools<5.0,>=2.0.0 in /home/alessandro/.local/lib/python3.8/site-packages (from google-auth<2,>=1.6.3->tensorboard~=2.5->tensorflow) (4.2.2)\n",
      "Requirement already satisfied: pyasn1-modules>=0.2.1 in /home/alessandro/.local/lib/python3.8/site-packages (from google-auth<2,>=1.6.3->tensorboard~=2.5->tensorflow) (0.2.8)\n"
     ]
    },
    {
     "name": "stdout",
     "output_type": "stream",
     "text": [
      "Requirement already satisfied: requests-oauthlib>=0.7.0 in /home/alessandro/.local/lib/python3.8/site-packages (from google-auth-oauthlib<0.5,>=0.4.1->tensorboard~=2.5->tensorflow) (1.3.0)\n",
      "Requirement already satisfied: pyasn1<0.5.0,>=0.4.6 in /home/alessandro/.local/lib/python3.8/site-packages (from pyasn1-modules>=0.2.1->google-auth<2,>=1.6.3->tensorboard~=2.5->tensorflow) (0.4.8)\n",
      "Requirement already satisfied: oauthlib>=3.0.0 in /usr/lib/python3/dist-packages (from requests-oauthlib>=0.7.0->google-auth-oauthlib<0.5,>=0.4.1->tensorboard~=2.5->tensorflow) (3.1.0)\n",
      "\u001b[33mWARNING: Value for scheme.headers does not match. Please report this to <https://github.com/pypa/pip/issues/9617>\n",
      "distutils: /home/alessandro/.local/include/python3.8/UNKNOWN\n",
      "sysconfig: /home/alessandro/.local/include/python3.8\u001b[0m\n",
      "\u001b[33mWARNING: Additional context:\n",
      "user = True\n",
      "home = None\n",
      "root = None\n",
      "prefix = None\u001b[0m\n",
      "\u001b[33mWARNING: You are using pip version 21.1; however, version 21.2.4 is available.\n",
      "You should consider upgrading via the '/usr/bin/python3 -m pip install --upgrade pip' command.\u001b[0m\n",
      "\u001b[33mWARNING: Value for scheme.platlib does not match. Please report this to <https://github.com/pypa/pip/issues/9617>\n",
      "distutils: /usr/local/lib/python3.8/dist-packages\n",
      "sysconfig: /usr/lib/python3.8/site-packages\u001b[0m\n",
      "\u001b[33mWARNING: Value for scheme.purelib does not match. Please report this to <https://github.com/pypa/pip/issues/9617>\n",
      "distutils: /usr/local/lib/python3.8/dist-packages\n",
      "sysconfig: /usr/lib/python3.8/site-packages\u001b[0m\n",
      "\u001b[33mWARNING: Value for scheme.headers does not match. Please report this to <https://github.com/pypa/pip/issues/9617>\n",
      "distutils: /usr/local/include/python3.8/UNKNOWN\n",
      "sysconfig: /usr/include/python3.8\u001b[0m\n",
      "\u001b[33mWARNING: Value for scheme.scripts does not match. Please report this to <https://github.com/pypa/pip/issues/9617>\n",
      "distutils: /usr/local/bin\n",
      "sysconfig: /usr/bin\u001b[0m\n",
      "\u001b[33mWARNING: Value for scheme.data does not match. Please report this to <https://github.com/pypa/pip/issues/9617>\n",
      "distutils: /usr/local\n",
      "sysconfig: /usr\u001b[0m\n",
      "\u001b[33mWARNING: Additional context:\n",
      "user = False\n",
      "home = None\n",
      "root = None\n",
      "prefix = None\u001b[0m\n",
      "Defaulting to user installation because normal site-packages is not writeable\n",
      "Requirement already satisfied: pandas in /home/alessandro/.local/lib/python3.8/site-packages (1.2.4)\n",
      "Requirement already satisfied: pytz>=2017.3 in /usr/lib/python3/dist-packages (from pandas) (2019.3)\n",
      "Requirement already satisfied: numpy>=1.16.5 in /home/alessandro/.local/lib/python3.8/site-packages (from pandas) (1.19.5)\n",
      "Requirement already satisfied: python-dateutil>=2.7.3 in /usr/lib/python3/dist-packages (from pandas) (2.7.3)\n",
      "\u001b[33mWARNING: Value for scheme.headers does not match. Please report this to <https://github.com/pypa/pip/issues/9617>\n",
      "distutils: /home/alessandro/.local/include/python3.8/UNKNOWN\n",
      "sysconfig: /home/alessandro/.local/include/python3.8\u001b[0m\n",
      "\u001b[33mWARNING: Additional context:\n",
      "user = True\n",
      "home = None\n",
      "root = None\n",
      "prefix = None\u001b[0m\n",
      "\u001b[33mWARNING: You are using pip version 21.1; however, version 21.2.4 is available.\n",
      "You should consider upgrading via the '/usr/bin/python3 -m pip install --upgrade pip' command.\u001b[0m\n",
      "\u001b[33mWARNING: Value for scheme.platlib does not match. Please report this to <https://github.com/pypa/pip/issues/9617>\n",
      "distutils: /usr/local/lib/python3.8/dist-packages\n",
      "sysconfig: /usr/lib/python3.8/site-packages\u001b[0m\n",
      "\u001b[33mWARNING: Value for scheme.purelib does not match. Please report this to <https://github.com/pypa/pip/issues/9617>\n",
      "distutils: /usr/local/lib/python3.8/dist-packages\n",
      "sysconfig: /usr/lib/python3.8/site-packages\u001b[0m\n",
      "\u001b[33mWARNING: Value for scheme.headers does not match. Please report this to <https://github.com/pypa/pip/issues/9617>\n",
      "distutils: /usr/local/include/python3.8/UNKNOWN\n",
      "sysconfig: /usr/include/python3.8\u001b[0m\n",
      "\u001b[33mWARNING: Value for scheme.scripts does not match. Please report this to <https://github.com/pypa/pip/issues/9617>\n",
      "distutils: /usr/local/bin\n",
      "sysconfig: /usr/bin\u001b[0m\n",
      "\u001b[33mWARNING: Value for scheme.data does not match. Please report this to <https://github.com/pypa/pip/issues/9617>\n",
      "distutils: /usr/local\n",
      "sysconfig: /usr\u001b[0m\n",
      "\u001b[33mWARNING: Additional context:\n",
      "user = False\n",
      "home = None\n",
      "root = None\n",
      "prefix = None\u001b[0m\n",
      "Defaulting to user installation because normal site-packages is not writeable\n",
      "Requirement already satisfied: scikit-learn in /home/alessandro/.local/lib/python3.8/site-packages (0.24.2)\n",
      "Requirement already satisfied: scipy in /home/alessandro/.local/lib/python3.8/site-packages (1.7.1)\n",
      "Requirement already satisfied: matplotlib in /home/alessandro/.local/lib/python3.8/site-packages (3.4.3)\n",
      "Requirement already satisfied: numpy>=1.13.3 in /home/alessandro/.local/lib/python3.8/site-packages (from scikit-learn) (1.19.5)\n",
      "Requirement already satisfied: threadpoolctl>=2.0.0 in /home/alessandro/.local/lib/python3.8/site-packages (from scikit-learn) (2.1.0)\n",
      "Requirement already satisfied: joblib>=0.11 in /home/alessandro/.local/lib/python3.8/site-packages (from scikit-learn) (1.0.1)\n",
      "Requirement already satisfied: pillow>=6.2.0 in /usr/lib/python3/dist-packages (from matplotlib) (7.0.0)\n",
      "Requirement already satisfied: python-dateutil>=2.7 in /usr/lib/python3/dist-packages (from matplotlib) (2.7.3)\n",
      "Requirement already satisfied: kiwisolver>=1.0.1 in /home/alessandro/.local/lib/python3.8/site-packages (from matplotlib) (1.3.1)\n",
      "Requirement already satisfied: cycler>=0.10 in /home/alessandro/.local/lib/python3.8/site-packages (from matplotlib) (0.10.0)\n",
      "Requirement already satisfied: pyparsing>=2.2.1 in /home/alessandro/.local/lib/python3.8/site-packages (from matplotlib) (2.4.7)\n",
      "Requirement already satisfied: six in /home/alessandro/.local/lib/python3.8/site-packages (from cycler>=0.10->matplotlib) (1.15.0)\n",
      "\u001b[33mWARNING: Value for scheme.headers does not match. Please report this to <https://github.com/pypa/pip/issues/9617>\n",
      "distutils: /home/alessandro/.local/include/python3.8/UNKNOWN\n",
      "sysconfig: /home/alessandro/.local/include/python3.8\u001b[0m\n",
      "\u001b[33mWARNING: Additional context:\n",
      "user = True\n",
      "home = None\n",
      "root = None\n",
      "prefix = None\u001b[0m\n",
      "\u001b[33mWARNING: You are using pip version 21.1; however, version 21.2.4 is available.\n",
      "You should consider upgrading via the '/usr/bin/python3 -m pip install --upgrade pip' command.\u001b[0m\n"
     ]
    }
   ],
   "source": [
    "!pip install seaborn\n",
    "!pip install tensorflow\n",
    "!pip install pandas\n",
    "!pip install -U scikit-learn scipy matplotlib"
   ]
  },
  {
   "cell_type": "code",
   "execution_count": 2,
   "id": "c6cb552e",
   "metadata": {},
   "outputs": [],
   "source": [
    "import numpy as np # linear algebra\n",
    "import pandas as pd # data processing, CSV file I/O (e.g. pd.read_csv)\n",
    "import seaborn as sns # For creating plots\n",
    "import matplotlib.ticker as mtick # For specifying the axes tick format \n",
    "import matplotlib.pyplot as plt\n",
    "\n",
    "#Importo test e test set\n",
    "train_raw = pd.read_csv(\"./train.csv\")\n",
    "test_raw = pd.read_csv(\"./test.csv\")"
   ]
  },
  {
   "cell_type": "markdown",
   "id": "501111de",
   "metadata": {},
   "source": [
    "## Verifiche iniziali su dati di TRAIN"
   ]
  },
  {
   "cell_type": "code",
   "execution_count": 3,
   "id": "60f30668",
   "metadata": {},
   "outputs": [
    {
     "data": {
      "text/html": [
       "<div>\n",
       "<style scoped>\n",
       "    .dataframe tbody tr th:only-of-type {\n",
       "        vertical-align: middle;\n",
       "    }\n",
       "\n",
       "    .dataframe tbody tr th {\n",
       "        vertical-align: top;\n",
       "    }\n",
       "\n",
       "    .dataframe thead th {\n",
       "        text-align: right;\n",
       "    }\n",
       "</style>\n",
       "<table border=\"1\" class=\"dataframe\">\n",
       "  <thead>\n",
       "    <tr style=\"text-align: right;\">\n",
       "      <th></th>\n",
       "      <th>status</th>\n",
       "      <th>gender</th>\n",
       "      <th>ssc_p</th>\n",
       "      <th>ssc_b</th>\n",
       "      <th>hsc_p</th>\n",
       "      <th>hsc_b</th>\n",
       "      <th>hsc_s</th>\n",
       "      <th>degree_p</th>\n",
       "      <th>degree_t</th>\n",
       "      <th>workex</th>\n",
       "      <th>etest_p</th>\n",
       "      <th>specialisation</th>\n",
       "      <th>mba_p</th>\n",
       "      <th>salary</th>\n",
       "    </tr>\n",
       "  </thead>\n",
       "  <tbody>\n",
       "    <tr>\n",
       "      <th>0</th>\n",
       "      <td>Not Placed</td>\n",
       "      <td>M</td>\n",
       "      <td>44.0</td>\n",
       "      <td>Central</td>\n",
       "      <td>58.0</td>\n",
       "      <td>Central</td>\n",
       "      <td>Arts</td>\n",
       "      <td>55.00</td>\n",
       "      <td>Comm&amp;Mgmt</td>\n",
       "      <td>Yes</td>\n",
       "      <td>64.25</td>\n",
       "      <td>Mkt&amp;HR</td>\n",
       "      <td>58.54</td>\n",
       "      <td>NaN</td>\n",
       "    </tr>\n",
       "    <tr>\n",
       "      <th>1</th>\n",
       "      <td>Placed</td>\n",
       "      <td>M</td>\n",
       "      <td>66.0</td>\n",
       "      <td>Central</td>\n",
       "      <td>76.0</td>\n",
       "      <td>Central</td>\n",
       "      <td>Commerce</td>\n",
       "      <td>72.00</td>\n",
       "      <td>Comm&amp;Mgmt</td>\n",
       "      <td>Yes</td>\n",
       "      <td>84.00</td>\n",
       "      <td>Mkt&amp;HR</td>\n",
       "      <td>58.95</td>\n",
       "      <td>275000.0</td>\n",
       "    </tr>\n",
       "    <tr>\n",
       "      <th>2</th>\n",
       "      <td>Placed</td>\n",
       "      <td>M</td>\n",
       "      <td>63.0</td>\n",
       "      <td>Central</td>\n",
       "      <td>60.0</td>\n",
       "      <td>Central</td>\n",
       "      <td>Commerce</td>\n",
       "      <td>57.00</td>\n",
       "      <td>Comm&amp;Mgmt</td>\n",
       "      <td>Yes</td>\n",
       "      <td>78.00</td>\n",
       "      <td>Mkt&amp;Fin</td>\n",
       "      <td>54.55</td>\n",
       "      <td>204000.0</td>\n",
       "    </tr>\n",
       "    <tr>\n",
       "      <th>3</th>\n",
       "      <td>Placed</td>\n",
       "      <td>F</td>\n",
       "      <td>73.0</td>\n",
       "      <td>Others</td>\n",
       "      <td>63.0</td>\n",
       "      <td>Others</td>\n",
       "      <td>Science</td>\n",
       "      <td>66.00</td>\n",
       "      <td>Comm&amp;Mgmt</td>\n",
       "      <td>No</td>\n",
       "      <td>89.00</td>\n",
       "      <td>Mkt&amp;Fin</td>\n",
       "      <td>60.50</td>\n",
       "      <td>216000.0</td>\n",
       "    </tr>\n",
       "    <tr>\n",
       "      <th>4</th>\n",
       "      <td>Not Placed</td>\n",
       "      <td>M</td>\n",
       "      <td>52.0</td>\n",
       "      <td>Others</td>\n",
       "      <td>65.0</td>\n",
       "      <td>Others</td>\n",
       "      <td>Arts</td>\n",
       "      <td>57.00</td>\n",
       "      <td>Others</td>\n",
       "      <td>Yes</td>\n",
       "      <td>75.00</td>\n",
       "      <td>Mkt&amp;Fin</td>\n",
       "      <td>59.81</td>\n",
       "      <td>NaN</td>\n",
       "    </tr>\n",
       "    <tr>\n",
       "      <th>...</th>\n",
       "      <td>...</td>\n",
       "      <td>...</td>\n",
       "      <td>...</td>\n",
       "      <td>...</td>\n",
       "      <td>...</td>\n",
       "      <td>...</td>\n",
       "      <td>...</td>\n",
       "      <td>...</td>\n",
       "      <td>...</td>\n",
       "      <td>...</td>\n",
       "      <td>...</td>\n",
       "      <td>...</td>\n",
       "      <td>...</td>\n",
       "      <td>...</td>\n",
       "    </tr>\n",
       "    <tr>\n",
       "      <th>124</th>\n",
       "      <td>Placed</td>\n",
       "      <td>F</td>\n",
       "      <td>61.0</td>\n",
       "      <td>Central</td>\n",
       "      <td>81.0</td>\n",
       "      <td>Central</td>\n",
       "      <td>Commerce</td>\n",
       "      <td>66.40</td>\n",
       "      <td>Comm&amp;Mgmt</td>\n",
       "      <td>No</td>\n",
       "      <td>50.89</td>\n",
       "      <td>Mkt&amp;HR</td>\n",
       "      <td>62.21</td>\n",
       "      <td>278000.0</td>\n",
       "    </tr>\n",
       "    <tr>\n",
       "      <th>125</th>\n",
       "      <td>Placed</td>\n",
       "      <td>M</td>\n",
       "      <td>73.0</td>\n",
       "      <td>Central</td>\n",
       "      <td>64.0</td>\n",
       "      <td>Others</td>\n",
       "      <td>Commerce</td>\n",
       "      <td>77.00</td>\n",
       "      <td>Comm&amp;Mgmt</td>\n",
       "      <td>Yes</td>\n",
       "      <td>65.00</td>\n",
       "      <td>Mkt&amp;HR</td>\n",
       "      <td>60.98</td>\n",
       "      <td>250000.0</td>\n",
       "    </tr>\n",
       "    <tr>\n",
       "      <th>126</th>\n",
       "      <td>Placed</td>\n",
       "      <td>M</td>\n",
       "      <td>73.0</td>\n",
       "      <td>Central</td>\n",
       "      <td>73.0</td>\n",
       "      <td>Central</td>\n",
       "      <td>Science</td>\n",
       "      <td>66.00</td>\n",
       "      <td>Sci&amp;Tech</td>\n",
       "      <td>Yes</td>\n",
       "      <td>70.00</td>\n",
       "      <td>Mkt&amp;Fin</td>\n",
       "      <td>68.07</td>\n",
       "      <td>275000.0</td>\n",
       "    </tr>\n",
       "    <tr>\n",
       "      <th>127</th>\n",
       "      <td>Placed</td>\n",
       "      <td>F</td>\n",
       "      <td>77.4</td>\n",
       "      <td>Others</td>\n",
       "      <td>60.0</td>\n",
       "      <td>Others</td>\n",
       "      <td>Science</td>\n",
       "      <td>64.74</td>\n",
       "      <td>Sci&amp;Tech</td>\n",
       "      <td>Yes</td>\n",
       "      <td>92.00</td>\n",
       "      <td>Mkt&amp;Fin</td>\n",
       "      <td>63.62</td>\n",
       "      <td>300000.0</td>\n",
       "    </tr>\n",
       "    <tr>\n",
       "      <th>128</th>\n",
       "      <td>Placed</td>\n",
       "      <td>F</td>\n",
       "      <td>77.0</td>\n",
       "      <td>Central</td>\n",
       "      <td>86.0</td>\n",
       "      <td>Central</td>\n",
       "      <td>Arts</td>\n",
       "      <td>56.00</td>\n",
       "      <td>Others</td>\n",
       "      <td>No</td>\n",
       "      <td>57.00</td>\n",
       "      <td>Mkt&amp;Fin</td>\n",
       "      <td>64.08</td>\n",
       "      <td>240000.0</td>\n",
       "    </tr>\n",
       "  </tbody>\n",
       "</table>\n",
       "<p>129 rows × 14 columns</p>\n",
       "</div>"
      ],
      "text/plain": [
       "         status gender  ssc_p    ssc_b  hsc_p    hsc_b     hsc_s  degree_p  \\\n",
       "0    Not Placed      M   44.0  Central   58.0  Central      Arts     55.00   \n",
       "1        Placed      M   66.0  Central   76.0  Central  Commerce     72.00   \n",
       "2        Placed      M   63.0  Central   60.0  Central  Commerce     57.00   \n",
       "3        Placed      F   73.0   Others   63.0   Others   Science     66.00   \n",
       "4    Not Placed      M   52.0   Others   65.0   Others      Arts     57.00   \n",
       "..          ...    ...    ...      ...    ...      ...       ...       ...   \n",
       "124      Placed      F   61.0  Central   81.0  Central  Commerce     66.40   \n",
       "125      Placed      M   73.0  Central   64.0   Others  Commerce     77.00   \n",
       "126      Placed      M   73.0  Central   73.0  Central   Science     66.00   \n",
       "127      Placed      F   77.4   Others   60.0   Others   Science     64.74   \n",
       "128      Placed      F   77.0  Central   86.0  Central      Arts     56.00   \n",
       "\n",
       "      degree_t workex  etest_p specialisation  mba_p    salary  \n",
       "0    Comm&Mgmt    Yes    64.25         Mkt&HR  58.54       NaN  \n",
       "1    Comm&Mgmt    Yes    84.00         Mkt&HR  58.95  275000.0  \n",
       "2    Comm&Mgmt    Yes    78.00        Mkt&Fin  54.55  204000.0  \n",
       "3    Comm&Mgmt     No    89.00        Mkt&Fin  60.50  216000.0  \n",
       "4       Others    Yes    75.00        Mkt&Fin  59.81       NaN  \n",
       "..         ...    ...      ...            ...    ...       ...  \n",
       "124  Comm&Mgmt     No    50.89         Mkt&HR  62.21  278000.0  \n",
       "125  Comm&Mgmt    Yes    65.00         Mkt&HR  60.98  250000.0  \n",
       "126   Sci&Tech    Yes    70.00        Mkt&Fin  68.07  275000.0  \n",
       "127   Sci&Tech    Yes    92.00        Mkt&Fin  63.62  300000.0  \n",
       "128     Others     No    57.00        Mkt&Fin  64.08  240000.0  \n",
       "\n",
       "[129 rows x 14 columns]"
      ]
     },
     "execution_count": 3,
     "metadata": {},
     "output_type": "execute_result"
    }
   ],
   "source": [
    "train_raw"
   ]
  },
  {
   "cell_type": "code",
   "execution_count": 4,
   "id": "d55dd9e3",
   "metadata": {},
   "outputs": [
    {
     "data": {
      "text/plain": [
       "status             object\n",
       "gender             object\n",
       "ssc_p             float64\n",
       "ssc_b              object\n",
       "hsc_p             float64\n",
       "hsc_b              object\n",
       "hsc_s              object\n",
       "degree_p          float64\n",
       "degree_t           object\n",
       "workex             object\n",
       "etest_p           float64\n",
       "specialisation     object\n",
       "mba_p             float64\n",
       "salary            float64\n",
       "dtype: object"
      ]
     },
     "execution_count": 4,
     "metadata": {},
     "output_type": "execute_result"
    }
   ],
   "source": [
    "train_raw.dtypes"
   ]
  },
  {
   "cell_type": "code",
   "execution_count": 5,
   "id": "c65feef7",
   "metadata": {},
   "outputs": [
    {
     "data": {
      "text/plain": [
       "status             0\n",
       "gender             0\n",
       "ssc_p              0\n",
       "ssc_b              0\n",
       "hsc_p              0\n",
       "hsc_b              0\n",
       "hsc_s              0\n",
       "degree_p           0\n",
       "degree_t           0\n",
       "workex             0\n",
       "etest_p            0\n",
       "specialisation     0\n",
       "mba_p              0\n",
       "salary            41\n",
       "dtype: int64"
      ]
     },
     "execution_count": 5,
     "metadata": {},
     "output_type": "execute_result"
    }
   ],
   "source": [
    "train_raw.isnull().sum()"
   ]
  },
  {
   "cell_type": "markdown",
   "id": "106ca41e",
   "metadata": {},
   "source": [
    "Come è possibile notare i valori nulli sono presenti solamente nella colonna relativa al salario. Essi non sono pochi quindi non è conveniente eliminare le righe inerenti a valori nan poichè (eliminando 41 righe su totale di 129..)  perderei una grande quantità di informazione sulle altre features . Quindi sostituisco con l'istruzione successiva tutti i valori nan con lo 0 . "
   ]
  },
  {
   "cell_type": "code",
   "execution_count": 6,
   "id": "2fe8bf3e",
   "metadata": {},
   "outputs": [],
   "source": [
    "train_raw[\"salary\"].replace(np.nan, 0, inplace=True)"
   ]
  },
  {
   "cell_type": "code",
   "execution_count": 7,
   "id": "73b699e3",
   "metadata": {},
   "outputs": [
    {
     "data": {
      "text/plain": [
       "status            0\n",
       "gender            0\n",
       "ssc_p             0\n",
       "ssc_b             0\n",
       "hsc_p             0\n",
       "hsc_b             0\n",
       "hsc_s             0\n",
       "degree_p          0\n",
       "degree_t          0\n",
       "workex            0\n",
       "etest_p           0\n",
       "specialisation    0\n",
       "mba_p             0\n",
       "salary            0\n",
       "dtype: int64"
      ]
     },
     "execution_count": 7,
     "metadata": {},
     "output_type": "execute_result"
    }
   ],
   "source": [
    "train_raw.isnull().sum()"
   ]
  },
  {
   "cell_type": "markdown",
   "id": "cb0c946f",
   "metadata": {},
   "source": [
    "Cerchiamo delle informazioni in più sulle persone che percepiscono 0 salario .. "
   ]
  },
  {
   "cell_type": "code",
   "execution_count": 8,
   "id": "c76e74df",
   "metadata": {},
   "outputs": [
    {
     "data": {
      "text/html": [
       "<div>\n",
       "<style scoped>\n",
       "    .dataframe tbody tr th:only-of-type {\n",
       "        vertical-align: middle;\n",
       "    }\n",
       "\n",
       "    .dataframe tbody tr th {\n",
       "        vertical-align: top;\n",
       "    }\n",
       "\n",
       "    .dataframe thead th {\n",
       "        text-align: right;\n",
       "    }\n",
       "</style>\n",
       "<table border=\"1\" class=\"dataframe\">\n",
       "  <thead>\n",
       "    <tr style=\"text-align: right;\">\n",
       "      <th></th>\n",
       "      <th>status</th>\n",
       "      <th>gender</th>\n",
       "      <th>ssc_p</th>\n",
       "      <th>ssc_b</th>\n",
       "      <th>hsc_p</th>\n",
       "      <th>hsc_b</th>\n",
       "      <th>hsc_s</th>\n",
       "      <th>degree_p</th>\n",
       "      <th>degree_t</th>\n",
       "      <th>workex</th>\n",
       "      <th>etest_p</th>\n",
       "      <th>specialisation</th>\n",
       "      <th>mba_p</th>\n",
       "      <th>salary</th>\n",
       "    </tr>\n",
       "  </thead>\n",
       "  <tbody>\n",
       "    <tr>\n",
       "      <th>0</th>\n",
       "      <td>Not Placed</td>\n",
       "      <td>M</td>\n",
       "      <td>44.00</td>\n",
       "      <td>Central</td>\n",
       "      <td>58.00</td>\n",
       "      <td>Central</td>\n",
       "      <td>Arts</td>\n",
       "      <td>55.00</td>\n",
       "      <td>Comm&amp;Mgmt</td>\n",
       "      <td>Yes</td>\n",
       "      <td>64.25</td>\n",
       "      <td>Mkt&amp;HR</td>\n",
       "      <td>58.54</td>\n",
       "      <td>0.0</td>\n",
       "    </tr>\n",
       "    <tr>\n",
       "      <th>4</th>\n",
       "      <td>Not Placed</td>\n",
       "      <td>M</td>\n",
       "      <td>52.00</td>\n",
       "      <td>Others</td>\n",
       "      <td>65.00</td>\n",
       "      <td>Others</td>\n",
       "      <td>Arts</td>\n",
       "      <td>57.00</td>\n",
       "      <td>Others</td>\n",
       "      <td>Yes</td>\n",
       "      <td>75.00</td>\n",
       "      <td>Mkt&amp;Fin</td>\n",
       "      <td>59.81</td>\n",
       "      <td>0.0</td>\n",
       "    </tr>\n",
       "    <tr>\n",
       "      <th>6</th>\n",
       "      <td>Not Placed</td>\n",
       "      <td>M</td>\n",
       "      <td>61.00</td>\n",
       "      <td>Others</td>\n",
       "      <td>70.00</td>\n",
       "      <td>Others</td>\n",
       "      <td>Commerce</td>\n",
       "      <td>64.00</td>\n",
       "      <td>Comm&amp;Mgmt</td>\n",
       "      <td>No</td>\n",
       "      <td>68.50</td>\n",
       "      <td>Mkt&amp;HR</td>\n",
       "      <td>59.50</td>\n",
       "      <td>0.0</td>\n",
       "    </tr>\n",
       "    <tr>\n",
       "      <th>10</th>\n",
       "      <td>Not Placed</td>\n",
       "      <td>F</td>\n",
       "      <td>55.00</td>\n",
       "      <td>Central</td>\n",
       "      <td>67.00</td>\n",
       "      <td>Central</td>\n",
       "      <td>Commerce</td>\n",
       "      <td>64.00</td>\n",
       "      <td>Comm&amp;Mgmt</td>\n",
       "      <td>No</td>\n",
       "      <td>60.00</td>\n",
       "      <td>Mkt&amp;Fin</td>\n",
       "      <td>67.28</td>\n",
       "      <td>0.0</td>\n",
       "    </tr>\n",
       "    <tr>\n",
       "      <th>11</th>\n",
       "      <td>Not Placed</td>\n",
       "      <td>F</td>\n",
       "      <td>67.00</td>\n",
       "      <td>Central</td>\n",
       "      <td>70.00</td>\n",
       "      <td>Central</td>\n",
       "      <td>Commerce</td>\n",
       "      <td>65.00</td>\n",
       "      <td>Others</td>\n",
       "      <td>No</td>\n",
       "      <td>88.00</td>\n",
       "      <td>Mkt&amp;HR</td>\n",
       "      <td>71.96</td>\n",
       "      <td>0.0</td>\n",
       "    </tr>\n",
       "    <tr>\n",
       "      <th>16</th>\n",
       "      <td>Not Placed</td>\n",
       "      <td>M</td>\n",
       "      <td>58.00</td>\n",
       "      <td>Others</td>\n",
       "      <td>40.00</td>\n",
       "      <td>Others</td>\n",
       "      <td>Science</td>\n",
       "      <td>59.00</td>\n",
       "      <td>Comm&amp;Mgmt</td>\n",
       "      <td>No</td>\n",
       "      <td>73.00</td>\n",
       "      <td>Mkt&amp;HR</td>\n",
       "      <td>58.81</td>\n",
       "      <td>0.0</td>\n",
       "    </tr>\n",
       "    <tr>\n",
       "      <th>18</th>\n",
       "      <td>Not Placed</td>\n",
       "      <td>M</td>\n",
       "      <td>62.00</td>\n",
       "      <td>Central</td>\n",
       "      <td>58.00</td>\n",
       "      <td>Others</td>\n",
       "      <td>Science</td>\n",
       "      <td>53.00</td>\n",
       "      <td>Comm&amp;Mgmt</td>\n",
       "      <td>No</td>\n",
       "      <td>89.00</td>\n",
       "      <td>Mkt&amp;HR</td>\n",
       "      <td>60.22</td>\n",
       "      <td>0.0</td>\n",
       "    </tr>\n",
       "    <tr>\n",
       "      <th>20</th>\n",
       "      <td>Not Placed</td>\n",
       "      <td>F</td>\n",
       "      <td>67.00</td>\n",
       "      <td>Central</td>\n",
       "      <td>53.00</td>\n",
       "      <td>Central</td>\n",
       "      <td>Science</td>\n",
       "      <td>65.00</td>\n",
       "      <td>Sci&amp;Tech</td>\n",
       "      <td>No</td>\n",
       "      <td>64.00</td>\n",
       "      <td>Mkt&amp;HR</td>\n",
       "      <td>58.32</td>\n",
       "      <td>0.0</td>\n",
       "    </tr>\n",
       "    <tr>\n",
       "      <th>21</th>\n",
       "      <td>Not Placed</td>\n",
       "      <td>M</td>\n",
       "      <td>52.00</td>\n",
       "      <td>Central</td>\n",
       "      <td>57.00</td>\n",
       "      <td>Central</td>\n",
       "      <td>Commerce</td>\n",
       "      <td>50.80</td>\n",
       "      <td>Comm&amp;Mgmt</td>\n",
       "      <td>No</td>\n",
       "      <td>67.00</td>\n",
       "      <td>Mkt&amp;HR</td>\n",
       "      <td>62.79</td>\n",
       "      <td>0.0</td>\n",
       "    </tr>\n",
       "    <tr>\n",
       "      <th>23</th>\n",
       "      <td>Not Placed</td>\n",
       "      <td>M</td>\n",
       "      <td>52.00</td>\n",
       "      <td>Central</td>\n",
       "      <td>49.00</td>\n",
       "      <td>Others</td>\n",
       "      <td>Commerce</td>\n",
       "      <td>58.00</td>\n",
       "      <td>Comm&amp;Mgmt</td>\n",
       "      <td>No</td>\n",
       "      <td>62.00</td>\n",
       "      <td>Mkt&amp;HR</td>\n",
       "      <td>60.59</td>\n",
       "      <td>0.0</td>\n",
       "    </tr>\n",
       "    <tr>\n",
       "      <th>24</th>\n",
       "      <td>Not Placed</td>\n",
       "      <td>M</td>\n",
       "      <td>41.00</td>\n",
       "      <td>Central</td>\n",
       "      <td>42.00</td>\n",
       "      <td>Central</td>\n",
       "      <td>Science</td>\n",
       "      <td>60.00</td>\n",
       "      <td>Comm&amp;Mgmt</td>\n",
       "      <td>No</td>\n",
       "      <td>97.00</td>\n",
       "      <td>Mkt&amp;Fin</td>\n",
       "      <td>53.39</td>\n",
       "      <td>0.0</td>\n",
       "    </tr>\n",
       "    <tr>\n",
       "      <th>25</th>\n",
       "      <td>Not Placed</td>\n",
       "      <td>F</td>\n",
       "      <td>64.00</td>\n",
       "      <td>Others</td>\n",
       "      <td>70.20</td>\n",
       "      <td>Central</td>\n",
       "      <td>Commerce</td>\n",
       "      <td>61.00</td>\n",
       "      <td>Comm&amp;Mgmt</td>\n",
       "      <td>No</td>\n",
       "      <td>50.00</td>\n",
       "      <td>Mkt&amp;Fin</td>\n",
       "      <td>62.50</td>\n",
       "      <td>0.0</td>\n",
       "    </tr>\n",
       "    <tr>\n",
       "      <th>27</th>\n",
       "      <td>Not Placed</td>\n",
       "      <td>F</td>\n",
       "      <td>63.30</td>\n",
       "      <td>Central</td>\n",
       "      <td>78.33</td>\n",
       "      <td>Others</td>\n",
       "      <td>Commerce</td>\n",
       "      <td>74.00</td>\n",
       "      <td>Comm&amp;Mgmt</td>\n",
       "      <td>No</td>\n",
       "      <td>80.00</td>\n",
       "      <td>Mkt&amp;Fin</td>\n",
       "      <td>74.56</td>\n",
       "      <td>0.0</td>\n",
       "    </tr>\n",
       "    <tr>\n",
       "      <th>28</th>\n",
       "      <td>Not Placed</td>\n",
       "      <td>M</td>\n",
       "      <td>62.00</td>\n",
       "      <td>Others</td>\n",
       "      <td>51.00</td>\n",
       "      <td>Others</td>\n",
       "      <td>Science</td>\n",
       "      <td>52.00</td>\n",
       "      <td>Others</td>\n",
       "      <td>No</td>\n",
       "      <td>68.44</td>\n",
       "      <td>Mkt&amp;HR</td>\n",
       "      <td>62.77</td>\n",
       "      <td>0.0</td>\n",
       "    </tr>\n",
       "    <tr>\n",
       "      <th>30</th>\n",
       "      <td>Not Placed</td>\n",
       "      <td>M</td>\n",
       "      <td>52.00</td>\n",
       "      <td>Central</td>\n",
       "      <td>62.00</td>\n",
       "      <td>Central</td>\n",
       "      <td>Commerce</td>\n",
       "      <td>54.00</td>\n",
       "      <td>Comm&amp;Mgmt</td>\n",
       "      <td>No</td>\n",
       "      <td>72.00</td>\n",
       "      <td>Mkt&amp;HR</td>\n",
       "      <td>55.41</td>\n",
       "      <td>0.0</td>\n",
       "    </tr>\n",
       "    <tr>\n",
       "      <th>33</th>\n",
       "      <td>Not Placed</td>\n",
       "      <td>F</td>\n",
       "      <td>63.40</td>\n",
       "      <td>Others</td>\n",
       "      <td>67.20</td>\n",
       "      <td>Others</td>\n",
       "      <td>Commerce</td>\n",
       "      <td>60.00</td>\n",
       "      <td>Comm&amp;Mgmt</td>\n",
       "      <td>No</td>\n",
       "      <td>58.06</td>\n",
       "      <td>Mkt&amp;HR</td>\n",
       "      <td>69.28</td>\n",
       "      <td>0.0</td>\n",
       "    </tr>\n",
       "    <tr>\n",
       "      <th>35</th>\n",
       "      <td>Not Placed</td>\n",
       "      <td>M</td>\n",
       "      <td>55.60</td>\n",
       "      <td>Others</td>\n",
       "      <td>51.00</td>\n",
       "      <td>Others</td>\n",
       "      <td>Commerce</td>\n",
       "      <td>57.50</td>\n",
       "      <td>Comm&amp;Mgmt</td>\n",
       "      <td>No</td>\n",
       "      <td>57.63</td>\n",
       "      <td>Mkt&amp;HR</td>\n",
       "      <td>62.72</td>\n",
       "      <td>0.0</td>\n",
       "    </tr>\n",
       "    <tr>\n",
       "      <th>36</th>\n",
       "      <td>Not Placed</td>\n",
       "      <td>F</td>\n",
       "      <td>47.00</td>\n",
       "      <td>Central</td>\n",
       "      <td>55.00</td>\n",
       "      <td>Others</td>\n",
       "      <td>Science</td>\n",
       "      <td>65.00</td>\n",
       "      <td>Comm&amp;Mgmt</td>\n",
       "      <td>No</td>\n",
       "      <td>62.00</td>\n",
       "      <td>Mkt&amp;HR</td>\n",
       "      <td>65.04</td>\n",
       "      <td>0.0</td>\n",
       "    </tr>\n",
       "    <tr>\n",
       "      <th>39</th>\n",
       "      <td>Not Placed</td>\n",
       "      <td>M</td>\n",
       "      <td>52.00</td>\n",
       "      <td>Central</td>\n",
       "      <td>63.00</td>\n",
       "      <td>Others</td>\n",
       "      <td>Science</td>\n",
       "      <td>65.00</td>\n",
       "      <td>Sci&amp;Tech</td>\n",
       "      <td>Yes</td>\n",
       "      <td>86.00</td>\n",
       "      <td>Mkt&amp;HR</td>\n",
       "      <td>56.09</td>\n",
       "      <td>0.0</td>\n",
       "    </tr>\n",
       "    <tr>\n",
       "      <th>40</th>\n",
       "      <td>Not Placed</td>\n",
       "      <td>M</td>\n",
       "      <td>63.00</td>\n",
       "      <td>Central</td>\n",
       "      <td>67.00</td>\n",
       "      <td>Central</td>\n",
       "      <td>Commerce</td>\n",
       "      <td>74.00</td>\n",
       "      <td>Comm&amp;Mgmt</td>\n",
       "      <td>No</td>\n",
       "      <td>82.00</td>\n",
       "      <td>Mkt&amp;Fin</td>\n",
       "      <td>60.44</td>\n",
       "      <td>0.0</td>\n",
       "    </tr>\n",
       "    <tr>\n",
       "      <th>45</th>\n",
       "      <td>Not Placed</td>\n",
       "      <td>F</td>\n",
       "      <td>74.00</td>\n",
       "      <td>Others</td>\n",
       "      <td>63.16</td>\n",
       "      <td>Others</td>\n",
       "      <td>Commerce</td>\n",
       "      <td>65.00</td>\n",
       "      <td>Comm&amp;Mgmt</td>\n",
       "      <td>Yes</td>\n",
       "      <td>65.00</td>\n",
       "      <td>Mkt&amp;HR</td>\n",
       "      <td>69.76</td>\n",
       "      <td>0.0</td>\n",
       "    </tr>\n",
       "    <tr>\n",
       "      <th>47</th>\n",
       "      <td>Not Placed</td>\n",
       "      <td>M</td>\n",
       "      <td>62.00</td>\n",
       "      <td>Central</td>\n",
       "      <td>60.33</td>\n",
       "      <td>Others</td>\n",
       "      <td>Science</td>\n",
       "      <td>64.21</td>\n",
       "      <td>Sci&amp;Tech</td>\n",
       "      <td>No</td>\n",
       "      <td>63.00</td>\n",
       "      <td>Mkt&amp;HR</td>\n",
       "      <td>60.02</td>\n",
       "      <td>0.0</td>\n",
       "    </tr>\n",
       "    <tr>\n",
       "      <th>49</th>\n",
       "      <td>Not Placed</td>\n",
       "      <td>M</td>\n",
       "      <td>61.08</td>\n",
       "      <td>Others</td>\n",
       "      <td>50.00</td>\n",
       "      <td>Others</td>\n",
       "      <td>Science</td>\n",
       "      <td>54.00</td>\n",
       "      <td>Sci&amp;Tech</td>\n",
       "      <td>No</td>\n",
       "      <td>71.00</td>\n",
       "      <td>Mkt&amp;Fin</td>\n",
       "      <td>65.69</td>\n",
       "      <td>0.0</td>\n",
       "    </tr>\n",
       "    <tr>\n",
       "      <th>55</th>\n",
       "      <td>Not Placed</td>\n",
       "      <td>M</td>\n",
       "      <td>51.57</td>\n",
       "      <td>Others</td>\n",
       "      <td>74.66</td>\n",
       "      <td>Others</td>\n",
       "      <td>Commerce</td>\n",
       "      <td>59.90</td>\n",
       "      <td>Comm&amp;Mgmt</td>\n",
       "      <td>Yes</td>\n",
       "      <td>56.15</td>\n",
       "      <td>Mkt&amp;HR</td>\n",
       "      <td>65.99</td>\n",
       "      <td>0.0</td>\n",
       "    </tr>\n",
       "    <tr>\n",
       "      <th>58</th>\n",
       "      <td>Not Placed</td>\n",
       "      <td>F</td>\n",
       "      <td>43.00</td>\n",
       "      <td>Central</td>\n",
       "      <td>60.00</td>\n",
       "      <td>Others</td>\n",
       "      <td>Science</td>\n",
       "      <td>65.00</td>\n",
       "      <td>Comm&amp;Mgmt</td>\n",
       "      <td>No</td>\n",
       "      <td>92.66</td>\n",
       "      <td>Mkt&amp;HR</td>\n",
       "      <td>62.92</td>\n",
       "      <td>0.0</td>\n",
       "    </tr>\n",
       "    <tr>\n",
       "      <th>61</th>\n",
       "      <td>Not Placed</td>\n",
       "      <td>F</td>\n",
       "      <td>77.80</td>\n",
       "      <td>Central</td>\n",
       "      <td>64.00</td>\n",
       "      <td>Central</td>\n",
       "      <td>Science</td>\n",
       "      <td>64.20</td>\n",
       "      <td>Sci&amp;Tech</td>\n",
       "      <td>No</td>\n",
       "      <td>75.50</td>\n",
       "      <td>Mkt&amp;HR</td>\n",
       "      <td>72.14</td>\n",
       "      <td>0.0</td>\n",
       "    </tr>\n",
       "    <tr>\n",
       "      <th>62</th>\n",
       "      <td>Not Placed</td>\n",
       "      <td>M</td>\n",
       "      <td>67.90</td>\n",
       "      <td>Others</td>\n",
       "      <td>62.00</td>\n",
       "      <td>Others</td>\n",
       "      <td>Science</td>\n",
       "      <td>67.00</td>\n",
       "      <td>Sci&amp;Tech</td>\n",
       "      <td>Yes</td>\n",
       "      <td>58.10</td>\n",
       "      <td>Mkt&amp;Fin</td>\n",
       "      <td>75.71</td>\n",
       "      <td>0.0</td>\n",
       "    </tr>\n",
       "    <tr>\n",
       "      <th>69</th>\n",
       "      <td>Not Placed</td>\n",
       "      <td>M</td>\n",
       "      <td>59.60</td>\n",
       "      <td>Central</td>\n",
       "      <td>51.00</td>\n",
       "      <td>Central</td>\n",
       "      <td>Science</td>\n",
       "      <td>60.00</td>\n",
       "      <td>Others</td>\n",
       "      <td>No</td>\n",
       "      <td>75.00</td>\n",
       "      <td>Mkt&amp;HR</td>\n",
       "      <td>59.08</td>\n",
       "      <td>0.0</td>\n",
       "    </tr>\n",
       "    <tr>\n",
       "      <th>70</th>\n",
       "      <td>Not Placed</td>\n",
       "      <td>F</td>\n",
       "      <td>70.89</td>\n",
       "      <td>Others</td>\n",
       "      <td>71.98</td>\n",
       "      <td>Others</td>\n",
       "      <td>Science</td>\n",
       "      <td>65.60</td>\n",
       "      <td>Comm&amp;Mgmt</td>\n",
       "      <td>No</td>\n",
       "      <td>68.00</td>\n",
       "      <td>Mkt&amp;HR</td>\n",
       "      <td>71.63</td>\n",
       "      <td>0.0</td>\n",
       "    </tr>\n",
       "    <tr>\n",
       "      <th>71</th>\n",
       "      <td>Not Placed</td>\n",
       "      <td>M</td>\n",
       "      <td>54.40</td>\n",
       "      <td>Central</td>\n",
       "      <td>61.12</td>\n",
       "      <td>Central</td>\n",
       "      <td>Commerce</td>\n",
       "      <td>56.20</td>\n",
       "      <td>Comm&amp;Mgmt</td>\n",
       "      <td>No</td>\n",
       "      <td>67.00</td>\n",
       "      <td>Mkt&amp;HR</td>\n",
       "      <td>62.65</td>\n",
       "      <td>0.0</td>\n",
       "    </tr>\n",
       "    <tr>\n",
       "      <th>80</th>\n",
       "      <td>Not Placed</td>\n",
       "      <td>F</td>\n",
       "      <td>50.00</td>\n",
       "      <td>Others</td>\n",
       "      <td>37.00</td>\n",
       "      <td>Others</td>\n",
       "      <td>Arts</td>\n",
       "      <td>52.00</td>\n",
       "      <td>Others</td>\n",
       "      <td>No</td>\n",
       "      <td>65.00</td>\n",
       "      <td>Mkt&amp;HR</td>\n",
       "      <td>56.11</td>\n",
       "      <td>0.0</td>\n",
       "    </tr>\n",
       "    <tr>\n",
       "      <th>83</th>\n",
       "      <td>Not Placed</td>\n",
       "      <td>M</td>\n",
       "      <td>62.00</td>\n",
       "      <td>Central</td>\n",
       "      <td>65.00</td>\n",
       "      <td>Others</td>\n",
       "      <td>Commerce</td>\n",
       "      <td>60.00</td>\n",
       "      <td>Comm&amp;Mgmt</td>\n",
       "      <td>No</td>\n",
       "      <td>84.00</td>\n",
       "      <td>Mkt&amp;Fin</td>\n",
       "      <td>64.15</td>\n",
       "      <td>0.0</td>\n",
       "    </tr>\n",
       "    <tr>\n",
       "      <th>88</th>\n",
       "      <td>Not Placed</td>\n",
       "      <td>M</td>\n",
       "      <td>66.00</td>\n",
       "      <td>Central</td>\n",
       "      <td>64.00</td>\n",
       "      <td>Central</td>\n",
       "      <td>Science</td>\n",
       "      <td>60.00</td>\n",
       "      <td>Comm&amp;Mgmt</td>\n",
       "      <td>No</td>\n",
       "      <td>60.00</td>\n",
       "      <td>Mkt&amp;HR</td>\n",
       "      <td>61.90</td>\n",
       "      <td>0.0</td>\n",
       "    </tr>\n",
       "    <tr>\n",
       "      <th>91</th>\n",
       "      <td>Not Placed</td>\n",
       "      <td>F</td>\n",
       "      <td>69.70</td>\n",
       "      <td>Central</td>\n",
       "      <td>47.00</td>\n",
       "      <td>Central</td>\n",
       "      <td>Commerce</td>\n",
       "      <td>72.70</td>\n",
       "      <td>Sci&amp;Tech</td>\n",
       "      <td>No</td>\n",
       "      <td>79.00</td>\n",
       "      <td>Mkt&amp;HR</td>\n",
       "      <td>59.24</td>\n",
       "      <td>0.0</td>\n",
       "    </tr>\n",
       "    <tr>\n",
       "      <th>92</th>\n",
       "      <td>Not Placed</td>\n",
       "      <td>M</td>\n",
       "      <td>54.20</td>\n",
       "      <td>Central</td>\n",
       "      <td>63.00</td>\n",
       "      <td>Others</td>\n",
       "      <td>Science</td>\n",
       "      <td>58.00</td>\n",
       "      <td>Comm&amp;Mgmt</td>\n",
       "      <td>No</td>\n",
       "      <td>79.00</td>\n",
       "      <td>Mkt&amp;HR</td>\n",
       "      <td>58.44</td>\n",
       "      <td>0.0</td>\n",
       "    </tr>\n",
       "    <tr>\n",
       "      <th>96</th>\n",
       "      <td>Not Placed</td>\n",
       "      <td>M</td>\n",
       "      <td>54.00</td>\n",
       "      <td>Central</td>\n",
       "      <td>82.00</td>\n",
       "      <td>Others</td>\n",
       "      <td>Commerce</td>\n",
       "      <td>63.00</td>\n",
       "      <td>Sci&amp;Tech</td>\n",
       "      <td>No</td>\n",
       "      <td>50.00</td>\n",
       "      <td>Mkt&amp;Fin</td>\n",
       "      <td>59.47</td>\n",
       "      <td>0.0</td>\n",
       "    </tr>\n",
       "    <tr>\n",
       "      <th>98</th>\n",
       "      <td>Not Placed</td>\n",
       "      <td>M</td>\n",
       "      <td>52.00</td>\n",
       "      <td>Others</td>\n",
       "      <td>50.00</td>\n",
       "      <td>Others</td>\n",
       "      <td>Arts</td>\n",
       "      <td>61.00</td>\n",
       "      <td>Comm&amp;Mgmt</td>\n",
       "      <td>No</td>\n",
       "      <td>60.00</td>\n",
       "      <td>Mkt&amp;Fin</td>\n",
       "      <td>58.52</td>\n",
       "      <td>0.0</td>\n",
       "    </tr>\n",
       "    <tr>\n",
       "      <th>99</th>\n",
       "      <td>Not Placed</td>\n",
       "      <td>M</td>\n",
       "      <td>52.00</td>\n",
       "      <td>Others</td>\n",
       "      <td>55.00</td>\n",
       "      <td>Others</td>\n",
       "      <td>Commerce</td>\n",
       "      <td>56.30</td>\n",
       "      <td>Comm&amp;Mgmt</td>\n",
       "      <td>No</td>\n",
       "      <td>59.00</td>\n",
       "      <td>Mkt&amp;Fin</td>\n",
       "      <td>64.74</td>\n",
       "      <td>0.0</td>\n",
       "    </tr>\n",
       "    <tr>\n",
       "      <th>105</th>\n",
       "      <td>Not Placed</td>\n",
       "      <td>F</td>\n",
       "      <td>45.00</td>\n",
       "      <td>Others</td>\n",
       "      <td>57.00</td>\n",
       "      <td>Others</td>\n",
       "      <td>Commerce</td>\n",
       "      <td>58.00</td>\n",
       "      <td>Comm&amp;Mgmt</td>\n",
       "      <td>Yes</td>\n",
       "      <td>56.39</td>\n",
       "      <td>Mkt&amp;HR</td>\n",
       "      <td>64.95</td>\n",
       "      <td>0.0</td>\n",
       "    </tr>\n",
       "    <tr>\n",
       "      <th>109</th>\n",
       "      <td>Not Placed</td>\n",
       "      <td>F</td>\n",
       "      <td>52.00</td>\n",
       "      <td>Others</td>\n",
       "      <td>52.00</td>\n",
       "      <td>Others</td>\n",
       "      <td>Science</td>\n",
       "      <td>55.00</td>\n",
       "      <td>Sci&amp;Tech</td>\n",
       "      <td>No</td>\n",
       "      <td>67.00</td>\n",
       "      <td>Mkt&amp;HR</td>\n",
       "      <td>59.32</td>\n",
       "      <td>0.0</td>\n",
       "    </tr>\n",
       "    <tr>\n",
       "      <th>116</th>\n",
       "      <td>Not Placed</td>\n",
       "      <td>M</td>\n",
       "      <td>56.00</td>\n",
       "      <td>Central</td>\n",
       "      <td>52.00</td>\n",
       "      <td>Central</td>\n",
       "      <td>Science</td>\n",
       "      <td>52.00</td>\n",
       "      <td>Sci&amp;Tech</td>\n",
       "      <td>No</td>\n",
       "      <td>66.00</td>\n",
       "      <td>Mkt&amp;HR</td>\n",
       "      <td>59.43</td>\n",
       "      <td>0.0</td>\n",
       "    </tr>\n",
       "  </tbody>\n",
       "</table>\n",
       "</div>"
      ],
      "text/plain": [
       "         status gender  ssc_p    ssc_b  hsc_p    hsc_b     hsc_s  degree_p  \\\n",
       "0    Not Placed      M  44.00  Central  58.00  Central      Arts     55.00   \n",
       "4    Not Placed      M  52.00   Others  65.00   Others      Arts     57.00   \n",
       "6    Not Placed      M  61.00   Others  70.00   Others  Commerce     64.00   \n",
       "10   Not Placed      F  55.00  Central  67.00  Central  Commerce     64.00   \n",
       "11   Not Placed      F  67.00  Central  70.00  Central  Commerce     65.00   \n",
       "16   Not Placed      M  58.00   Others  40.00   Others   Science     59.00   \n",
       "18   Not Placed      M  62.00  Central  58.00   Others   Science     53.00   \n",
       "20   Not Placed      F  67.00  Central  53.00  Central   Science     65.00   \n",
       "21   Not Placed      M  52.00  Central  57.00  Central  Commerce     50.80   \n",
       "23   Not Placed      M  52.00  Central  49.00   Others  Commerce     58.00   \n",
       "24   Not Placed      M  41.00  Central  42.00  Central   Science     60.00   \n",
       "25   Not Placed      F  64.00   Others  70.20  Central  Commerce     61.00   \n",
       "27   Not Placed      F  63.30  Central  78.33   Others  Commerce     74.00   \n",
       "28   Not Placed      M  62.00   Others  51.00   Others   Science     52.00   \n",
       "30   Not Placed      M  52.00  Central  62.00  Central  Commerce     54.00   \n",
       "33   Not Placed      F  63.40   Others  67.20   Others  Commerce     60.00   \n",
       "35   Not Placed      M  55.60   Others  51.00   Others  Commerce     57.50   \n",
       "36   Not Placed      F  47.00  Central  55.00   Others   Science     65.00   \n",
       "39   Not Placed      M  52.00  Central  63.00   Others   Science     65.00   \n",
       "40   Not Placed      M  63.00  Central  67.00  Central  Commerce     74.00   \n",
       "45   Not Placed      F  74.00   Others  63.16   Others  Commerce     65.00   \n",
       "47   Not Placed      M  62.00  Central  60.33   Others   Science     64.21   \n",
       "49   Not Placed      M  61.08   Others  50.00   Others   Science     54.00   \n",
       "55   Not Placed      M  51.57   Others  74.66   Others  Commerce     59.90   \n",
       "58   Not Placed      F  43.00  Central  60.00   Others   Science     65.00   \n",
       "61   Not Placed      F  77.80  Central  64.00  Central   Science     64.20   \n",
       "62   Not Placed      M  67.90   Others  62.00   Others   Science     67.00   \n",
       "69   Not Placed      M  59.60  Central  51.00  Central   Science     60.00   \n",
       "70   Not Placed      F  70.89   Others  71.98   Others   Science     65.60   \n",
       "71   Not Placed      M  54.40  Central  61.12  Central  Commerce     56.20   \n",
       "80   Not Placed      F  50.00   Others  37.00   Others      Arts     52.00   \n",
       "83   Not Placed      M  62.00  Central  65.00   Others  Commerce     60.00   \n",
       "88   Not Placed      M  66.00  Central  64.00  Central   Science     60.00   \n",
       "91   Not Placed      F  69.70  Central  47.00  Central  Commerce     72.70   \n",
       "92   Not Placed      M  54.20  Central  63.00   Others   Science     58.00   \n",
       "96   Not Placed      M  54.00  Central  82.00   Others  Commerce     63.00   \n",
       "98   Not Placed      M  52.00   Others  50.00   Others      Arts     61.00   \n",
       "99   Not Placed      M  52.00   Others  55.00   Others  Commerce     56.30   \n",
       "105  Not Placed      F  45.00   Others  57.00   Others  Commerce     58.00   \n",
       "109  Not Placed      F  52.00   Others  52.00   Others   Science     55.00   \n",
       "116  Not Placed      M  56.00  Central  52.00  Central   Science     52.00   \n",
       "\n",
       "      degree_t workex  etest_p specialisation  mba_p  salary  \n",
       "0    Comm&Mgmt    Yes    64.25         Mkt&HR  58.54     0.0  \n",
       "4       Others    Yes    75.00        Mkt&Fin  59.81     0.0  \n",
       "6    Comm&Mgmt     No    68.50         Mkt&HR  59.50     0.0  \n",
       "10   Comm&Mgmt     No    60.00        Mkt&Fin  67.28     0.0  \n",
       "11      Others     No    88.00         Mkt&HR  71.96     0.0  \n",
       "16   Comm&Mgmt     No    73.00         Mkt&HR  58.81     0.0  \n",
       "18   Comm&Mgmt     No    89.00         Mkt&HR  60.22     0.0  \n",
       "20    Sci&Tech     No    64.00         Mkt&HR  58.32     0.0  \n",
       "21   Comm&Mgmt     No    67.00         Mkt&HR  62.79     0.0  \n",
       "23   Comm&Mgmt     No    62.00         Mkt&HR  60.59     0.0  \n",
       "24   Comm&Mgmt     No    97.00        Mkt&Fin  53.39     0.0  \n",
       "25   Comm&Mgmt     No    50.00        Mkt&Fin  62.50     0.0  \n",
       "27   Comm&Mgmt     No    80.00        Mkt&Fin  74.56     0.0  \n",
       "28      Others     No    68.44         Mkt&HR  62.77     0.0  \n",
       "30   Comm&Mgmt     No    72.00         Mkt&HR  55.41     0.0  \n",
       "33   Comm&Mgmt     No    58.06         Mkt&HR  69.28     0.0  \n",
       "35   Comm&Mgmt     No    57.63         Mkt&HR  62.72     0.0  \n",
       "36   Comm&Mgmt     No    62.00         Mkt&HR  65.04     0.0  \n",
       "39    Sci&Tech    Yes    86.00         Mkt&HR  56.09     0.0  \n",
       "40   Comm&Mgmt     No    82.00        Mkt&Fin  60.44     0.0  \n",
       "45   Comm&Mgmt    Yes    65.00         Mkt&HR  69.76     0.0  \n",
       "47    Sci&Tech     No    63.00         Mkt&HR  60.02     0.0  \n",
       "49    Sci&Tech     No    71.00        Mkt&Fin  65.69     0.0  \n",
       "55   Comm&Mgmt    Yes    56.15         Mkt&HR  65.99     0.0  \n",
       "58   Comm&Mgmt     No    92.66         Mkt&HR  62.92     0.0  \n",
       "61    Sci&Tech     No    75.50         Mkt&HR  72.14     0.0  \n",
       "62    Sci&Tech    Yes    58.10        Mkt&Fin  75.71     0.0  \n",
       "69      Others     No    75.00         Mkt&HR  59.08     0.0  \n",
       "70   Comm&Mgmt     No    68.00         Mkt&HR  71.63     0.0  \n",
       "71   Comm&Mgmt     No    67.00         Mkt&HR  62.65     0.0  \n",
       "80      Others     No    65.00         Mkt&HR  56.11     0.0  \n",
       "83   Comm&Mgmt     No    84.00        Mkt&Fin  64.15     0.0  \n",
       "88   Comm&Mgmt     No    60.00         Mkt&HR  61.90     0.0  \n",
       "91    Sci&Tech     No    79.00         Mkt&HR  59.24     0.0  \n",
       "92   Comm&Mgmt     No    79.00         Mkt&HR  58.44     0.0  \n",
       "96    Sci&Tech     No    50.00        Mkt&Fin  59.47     0.0  \n",
       "98   Comm&Mgmt     No    60.00        Mkt&Fin  58.52     0.0  \n",
       "99   Comm&Mgmt     No    59.00        Mkt&Fin  64.74     0.0  \n",
       "105  Comm&Mgmt    Yes    56.39         Mkt&HR  64.95     0.0  \n",
       "109   Sci&Tech     No    67.00         Mkt&HR  59.32     0.0  \n",
       "116   Sci&Tech     No    66.00         Mkt&HR  59.43     0.0  "
      ]
     },
     "execution_count": 8,
     "metadata": {},
     "output_type": "execute_result"
    }
   ],
   "source": [
    "train_raw.loc[train_raw['salary']==0.0]"
   ]
  },
  {
   "cell_type": "code",
   "execution_count": 9,
   "id": "80bcd035",
   "metadata": {},
   "outputs": [
    {
     "data": {
      "text/plain": [
       "<AxesSubplot:xlabel='status'>"
      ]
     },
     "execution_count": 9,
     "metadata": {},
     "output_type": "execute_result"
    },
    {
     "data": {
      "image/png": "[encoded data removed]",
      "text/plain": [
       "<Figure size 432x288 with 1 Axes>"
      ]
     },
     "metadata": {
      "needs_background": "light"
     },
     "output_type": "display_data"
    }
   ],
   "source": [
    "train_raw.groupby('status').sum().salary.plot(kind='bar')"
   ]
  },
  {
   "cell_type": "markdown",
   "id": "b34d5f19",
   "metadata": {},
   "source": [
    "Come era possibile immaginare le persone che non hanno trovato collocazione non hanno uno stipendio offerto . Per fortuna non ci sono casi in cui si poteva attestare il contrario sennò andavano rimossi ."
   ]
  },
  {
   "cell_type": "markdown",
   "id": "600a147c",
   "metadata": {},
   "source": [
    "## Verifiche iniziali su dati di TEST\n",
    "passaggi ripetuti anche su dati di test ,ragionamenti e finalità uguali  "
   ]
  },
  {
   "cell_type": "code",
   "execution_count": 10,
   "id": "074175eb",
   "metadata": {},
   "outputs": [
    {
     "data": {
      "text/plain": [
       "status             object\n",
       "gender             object\n",
       "ssc_p             float64\n",
       "ssc_b              object\n",
       "hsc_p             float64\n",
       "hsc_b              object\n",
       "hsc_s              object\n",
       "degree_p          float64\n",
       "degree_t           object\n",
       "workex             object\n",
       "etest_p           float64\n",
       "specialisation     object\n",
       "mba_p             float64\n",
       "salary            float64\n",
       "dtype: object"
      ]
     },
     "execution_count": 10,
     "metadata": {},
     "output_type": "execute_result"
    }
   ],
   "source": [
    "test_raw.dtypes"
   ]
  },
  {
   "cell_type": "code",
   "execution_count": 11,
   "id": "5f509c32",
   "metadata": {},
   "outputs": [
    {
     "data": {
      "text/plain": [
       "status             0\n",
       "gender             0\n",
       "ssc_p              0\n",
       "ssc_b              0\n",
       "hsc_p              0\n",
       "hsc_b              0\n",
       "hsc_s              0\n",
       "degree_p           0\n",
       "degree_t           0\n",
       "workex             0\n",
       "etest_p            0\n",
       "specialisation     0\n",
       "mba_p              0\n",
       "salary            14\n",
       "dtype: int64"
      ]
     },
     "execution_count": 11,
     "metadata": {},
     "output_type": "execute_result"
    }
   ],
   "source": [
    "test_raw.isnull().sum()"
   ]
  },
  {
   "cell_type": "code",
   "execution_count": 12,
   "id": "26518791",
   "metadata": {},
   "outputs": [],
   "source": [
    "test_raw[\"salary\"].replace(np.nan, 0, inplace=True)"
   ]
  },
  {
   "cell_type": "code",
   "execution_count": 13,
   "id": "41035d9b",
   "metadata": {},
   "outputs": [
    {
     "data": {
      "text/plain": [
       "<AxesSubplot:xlabel='status'>"
      ]
     },
     "execution_count": 13,
     "metadata": {},
     "output_type": "execute_result"
    },
    {
     "data": {
      "image/png": "[encoded data removed]",
      "text/plain": [
       "<Figure size 432x288 with 1 Axes>"
      ]
     },
     "metadata": {
      "needs_background": "light"
     },
     "output_type": "display_data"
    }
   ],
   "source": [
    "test_raw.groupby('status').sum().salary.plot(kind='bar')"
   ]
  },
  {
   "cell_type": "markdown",
   "id": "f5f5cff0",
   "metadata": {},
   "source": [
    "## Studio e analisi dei dati "
   ]
  },
  {
   "cell_type": "markdown",
   "id": "bf3d86ce",
   "metadata": {},
   "source": [
    "Prima di procedere all'analisi dei dati bisogna mettere ordine e far si che l'analisi si possa fare nel modo giusto . Verificando se essi sono espressi nel giusto modo . "
   ]
  },
  {
   "cell_type": "code",
   "execution_count": 14,
   "id": "37b9c04e",
   "metadata": {},
   "outputs": [],
   "source": [
    "train_raw['status'].replace(to_replace='Placed', value=1, inplace=True)\n",
    "train_raw['status'].replace(to_replace='Not Placed',  value=0, inplace=True)"
   ]
  },
  {
   "cell_type": "code",
   "execution_count": 15,
   "id": "dd7dc425",
   "metadata": {},
   "outputs": [
    {
     "data": {
      "text/html": [
       "<div>\n",
       "<style scoped>\n",
       "    .dataframe tbody tr th:only-of-type {\n",
       "        vertical-align: middle;\n",
       "    }\n",
       "\n",
       "    .dataframe tbody tr th {\n",
       "        vertical-align: top;\n",
       "    }\n",
       "\n",
       "    .dataframe thead th {\n",
       "        text-align: right;\n",
       "    }\n",
       "</style>\n",
       "<table border=\"1\" class=\"dataframe\">\n",
       "  <thead>\n",
       "    <tr style=\"text-align: right;\">\n",
       "      <th></th>\n",
       "      <th>status</th>\n",
       "      <th>gender</th>\n",
       "      <th>ssc_p</th>\n",
       "      <th>ssc_b</th>\n",
       "      <th>hsc_p</th>\n",
       "      <th>hsc_b</th>\n",
       "      <th>hsc_s</th>\n",
       "      <th>degree_p</th>\n",
       "      <th>degree_t</th>\n",
       "      <th>workex</th>\n",
       "      <th>etest_p</th>\n",
       "      <th>specialisation</th>\n",
       "      <th>mba_p</th>\n",
       "      <th>salary</th>\n",
       "    </tr>\n",
       "  </thead>\n",
       "  <tbody>\n",
       "    <tr>\n",
       "      <th>0</th>\n",
       "      <td>0</td>\n",
       "      <td>M</td>\n",
       "      <td>44.0</td>\n",
       "      <td>Central</td>\n",
       "      <td>58.0</td>\n",
       "      <td>Central</td>\n",
       "      <td>Arts</td>\n",
       "      <td>55.0</td>\n",
       "      <td>Comm&amp;Mgmt</td>\n",
       "      <td>Yes</td>\n",
       "      <td>64.25</td>\n",
       "      <td>Mkt&amp;HR</td>\n",
       "      <td>58.54</td>\n",
       "      <td>0.0</td>\n",
       "    </tr>\n",
       "    <tr>\n",
       "      <th>1</th>\n",
       "      <td>1</td>\n",
       "      <td>M</td>\n",
       "      <td>66.0</td>\n",
       "      <td>Central</td>\n",
       "      <td>76.0</td>\n",
       "      <td>Central</td>\n",
       "      <td>Commerce</td>\n",
       "      <td>72.0</td>\n",
       "      <td>Comm&amp;Mgmt</td>\n",
       "      <td>Yes</td>\n",
       "      <td>84.00</td>\n",
       "      <td>Mkt&amp;HR</td>\n",
       "      <td>58.95</td>\n",
       "      <td>275000.0</td>\n",
       "    </tr>\n",
       "    <tr>\n",
       "      <th>2</th>\n",
       "      <td>1</td>\n",
       "      <td>M</td>\n",
       "      <td>63.0</td>\n",
       "      <td>Central</td>\n",
       "      <td>60.0</td>\n",
       "      <td>Central</td>\n",
       "      <td>Commerce</td>\n",
       "      <td>57.0</td>\n",
       "      <td>Comm&amp;Mgmt</td>\n",
       "      <td>Yes</td>\n",
       "      <td>78.00</td>\n",
       "      <td>Mkt&amp;Fin</td>\n",
       "      <td>54.55</td>\n",
       "      <td>204000.0</td>\n",
       "    </tr>\n",
       "    <tr>\n",
       "      <th>3</th>\n",
       "      <td>1</td>\n",
       "      <td>F</td>\n",
       "      <td>73.0</td>\n",
       "      <td>Others</td>\n",
       "      <td>63.0</td>\n",
       "      <td>Others</td>\n",
       "      <td>Science</td>\n",
       "      <td>66.0</td>\n",
       "      <td>Comm&amp;Mgmt</td>\n",
       "      <td>No</td>\n",
       "      <td>89.00</td>\n",
       "      <td>Mkt&amp;Fin</td>\n",
       "      <td>60.50</td>\n",
       "      <td>216000.0</td>\n",
       "    </tr>\n",
       "    <tr>\n",
       "      <th>4</th>\n",
       "      <td>0</td>\n",
       "      <td>M</td>\n",
       "      <td>52.0</td>\n",
       "      <td>Others</td>\n",
       "      <td>65.0</td>\n",
       "      <td>Others</td>\n",
       "      <td>Arts</td>\n",
       "      <td>57.0</td>\n",
       "      <td>Others</td>\n",
       "      <td>Yes</td>\n",
       "      <td>75.00</td>\n",
       "      <td>Mkt&amp;Fin</td>\n",
       "      <td>59.81</td>\n",
       "      <td>0.0</td>\n",
       "    </tr>\n",
       "  </tbody>\n",
       "</table>\n",
       "</div>"
      ],
      "text/plain": [
       "   status gender  ssc_p    ssc_b  hsc_p    hsc_b     hsc_s  degree_p  \\\n",
       "0       0      M   44.0  Central   58.0  Central      Arts      55.0   \n",
       "1       1      M   66.0  Central   76.0  Central  Commerce      72.0   \n",
       "2       1      M   63.0  Central   60.0  Central  Commerce      57.0   \n",
       "3       1      F   73.0   Others   63.0   Others   Science      66.0   \n",
       "4       0      M   52.0   Others   65.0   Others      Arts      57.0   \n",
       "\n",
       "    degree_t workex  etest_p specialisation  mba_p    salary  \n",
       "0  Comm&Mgmt    Yes    64.25         Mkt&HR  58.54       0.0  \n",
       "1  Comm&Mgmt    Yes    84.00         Mkt&HR  58.95  275000.0  \n",
       "2  Comm&Mgmt    Yes    78.00        Mkt&Fin  54.55  204000.0  \n",
       "3  Comm&Mgmt     No    89.00        Mkt&Fin  60.50  216000.0  \n",
       "4     Others    Yes    75.00        Mkt&Fin  59.81       0.0  "
      ]
     },
     "execution_count": 15,
     "metadata": {},
     "output_type": "execute_result"
    }
   ],
   "source": [
    "train_raw.head()"
   ]
  },
  {
   "cell_type": "markdown",
   "id": "715d97bb",
   "metadata": {},
   "source": [
    "Converto i valori di status in valori binari per migliorare la comprensione e per effettuare successivamente analisi e ora lo farò anche per gli altri valori , ove possibile. Li ho messi qui per poter graficare la correlazione , ma effettivamente li userò solo in seguito. Encoding fatto con dummies"
   ]
  },
  {
   "cell_type": "code",
   "execution_count": 16,
   "id": "2ab35163",
   "metadata": {},
   "outputs": [
    {
     "data": {
      "text/html": [
       "<div>\n",
       "<style scoped>\n",
       "    .dataframe tbody tr th:only-of-type {\n",
       "        vertical-align: middle;\n",
       "    }\n",
       "\n",
       "    .dataframe tbody tr th {\n",
       "        vertical-align: top;\n",
       "    }\n",
       "\n",
       "    .dataframe thead th {\n",
       "        text-align: right;\n",
       "    }\n",
       "</style>\n",
       "<table border=\"1\" class=\"dataframe\">\n",
       "  <thead>\n",
       "    <tr style=\"text-align: right;\">\n",
       "      <th></th>\n",
       "      <th>status</th>\n",
       "      <th>ssc_p</th>\n",
       "      <th>hsc_p</th>\n",
       "      <th>degree_p</th>\n",
       "      <th>etest_p</th>\n",
       "      <th>mba_p</th>\n",
       "      <th>salary</th>\n",
       "      <th>gender_F</th>\n",
       "      <th>gender_M</th>\n",
       "      <th>ssc_b_Central</th>\n",
       "      <th>...</th>\n",
       "      <th>hsc_s_Arts</th>\n",
       "      <th>hsc_s_Commerce</th>\n",
       "      <th>hsc_s_Science</th>\n",
       "      <th>degree_t_Comm&amp;Mgmt</th>\n",
       "      <th>degree_t_Others</th>\n",
       "      <th>degree_t_Sci&amp;Tech</th>\n",
       "      <th>workex_No</th>\n",
       "      <th>workex_Yes</th>\n",
       "      <th>specialisation_Mkt&amp;Fin</th>\n",
       "      <th>specialisation_Mkt&amp;HR</th>\n",
       "    </tr>\n",
       "  </thead>\n",
       "  <tbody>\n",
       "    <tr>\n",
       "      <th>0</th>\n",
       "      <td>0</td>\n",
       "      <td>44.0</td>\n",
       "      <td>58.0</td>\n",
       "      <td>55.0</td>\n",
       "      <td>64.25</td>\n",
       "      <td>58.54</td>\n",
       "      <td>0.0</td>\n",
       "      <td>0</td>\n",
       "      <td>1</td>\n",
       "      <td>1</td>\n",
       "      <td>...</td>\n",
       "      <td>1</td>\n",
       "      <td>0</td>\n",
       "      <td>0</td>\n",
       "      <td>1</td>\n",
       "      <td>0</td>\n",
       "      <td>0</td>\n",
       "      <td>0</td>\n",
       "      <td>1</td>\n",
       "      <td>0</td>\n",
       "      <td>1</td>\n",
       "    </tr>\n",
       "    <tr>\n",
       "      <th>1</th>\n",
       "      <td>1</td>\n",
       "      <td>66.0</td>\n",
       "      <td>76.0</td>\n",
       "      <td>72.0</td>\n",
       "      <td>84.00</td>\n",
       "      <td>58.95</td>\n",
       "      <td>275000.0</td>\n",
       "      <td>0</td>\n",
       "      <td>1</td>\n",
       "      <td>1</td>\n",
       "      <td>...</td>\n",
       "      <td>0</td>\n",
       "      <td>1</td>\n",
       "      <td>0</td>\n",
       "      <td>1</td>\n",
       "      <td>0</td>\n",
       "      <td>0</td>\n",
       "      <td>0</td>\n",
       "      <td>1</td>\n",
       "      <td>0</td>\n",
       "      <td>1</td>\n",
       "    </tr>\n",
       "    <tr>\n",
       "      <th>2</th>\n",
       "      <td>1</td>\n",
       "      <td>63.0</td>\n",
       "      <td>60.0</td>\n",
       "      <td>57.0</td>\n",
       "      <td>78.00</td>\n",
       "      <td>54.55</td>\n",
       "      <td>204000.0</td>\n",
       "      <td>0</td>\n",
       "      <td>1</td>\n",
       "      <td>1</td>\n",
       "      <td>...</td>\n",
       "      <td>0</td>\n",
       "      <td>1</td>\n",
       "      <td>0</td>\n",
       "      <td>1</td>\n",
       "      <td>0</td>\n",
       "      <td>0</td>\n",
       "      <td>0</td>\n",
       "      <td>1</td>\n",
       "      <td>1</td>\n",
       "      <td>0</td>\n",
       "    </tr>\n",
       "    <tr>\n",
       "      <th>3</th>\n",
       "      <td>1</td>\n",
       "      <td>73.0</td>\n",
       "      <td>63.0</td>\n",
       "      <td>66.0</td>\n",
       "      <td>89.00</td>\n",
       "      <td>60.50</td>\n",
       "      <td>216000.0</td>\n",
       "      <td>1</td>\n",
       "      <td>0</td>\n",
       "      <td>0</td>\n",
       "      <td>...</td>\n",
       "      <td>0</td>\n",
       "      <td>0</td>\n",
       "      <td>1</td>\n",
       "      <td>1</td>\n",
       "      <td>0</td>\n",
       "      <td>0</td>\n",
       "      <td>1</td>\n",
       "      <td>0</td>\n",
       "      <td>1</td>\n",
       "      <td>0</td>\n",
       "    </tr>\n",
       "    <tr>\n",
       "      <th>4</th>\n",
       "      <td>0</td>\n",
       "      <td>52.0</td>\n",
       "      <td>65.0</td>\n",
       "      <td>57.0</td>\n",
       "      <td>75.00</td>\n",
       "      <td>59.81</td>\n",
       "      <td>0.0</td>\n",
       "      <td>0</td>\n",
       "      <td>1</td>\n",
       "      <td>0</td>\n",
       "      <td>...</td>\n",
       "      <td>1</td>\n",
       "      <td>0</td>\n",
       "      <td>0</td>\n",
       "      <td>0</td>\n",
       "      <td>1</td>\n",
       "      <td>0</td>\n",
       "      <td>0</td>\n",
       "      <td>1</td>\n",
       "      <td>1</td>\n",
       "      <td>0</td>\n",
       "    </tr>\n",
       "  </tbody>\n",
       "</table>\n",
       "<p>5 rows × 23 columns</p>\n",
       "</div>"
      ],
      "text/plain": [
       "   status  ssc_p  hsc_p  degree_p  etest_p  mba_p    salary  gender_F  \\\n",
       "0       0   44.0   58.0      55.0    64.25  58.54       0.0         0   \n",
       "1       1   66.0   76.0      72.0    84.00  58.95  275000.0         0   \n",
       "2       1   63.0   60.0      57.0    78.00  54.55  204000.0         0   \n",
       "3       1   73.0   63.0      66.0    89.00  60.50  216000.0         1   \n",
       "4       0   52.0   65.0      57.0    75.00  59.81       0.0         0   \n",
       "\n",
       "   gender_M  ssc_b_Central  ...  hsc_s_Arts  hsc_s_Commerce  hsc_s_Science  \\\n",
       "0         1              1  ...           1               0              0   \n",
       "1         1              1  ...           0               1              0   \n",
       "2         1              1  ...           0               1              0   \n",
       "3         0              0  ...           0               0              1   \n",
       "4         1              0  ...           1               0              0   \n",
       "\n",
       "   degree_t_Comm&Mgmt  degree_t_Others  degree_t_Sci&Tech  workex_No  \\\n",
       "0                   1                0                  0          0   \n",
       "1                   1                0                  0          0   \n",
       "2                   1                0                  0          0   \n",
       "3                   1                0                  0          1   \n",
       "4                   0                1                  0          0   \n",
       "\n",
       "   workex_Yes  specialisation_Mkt&Fin  specialisation_Mkt&HR  \n",
       "0           1                       0                      1  \n",
       "1           1                       0                      1  \n",
       "2           1                       1                      0  \n",
       "3           0                       1                      0  \n",
       "4           1                       1                      0  \n",
       "\n",
       "[5 rows x 23 columns]"
      ]
     },
     "execution_count": 16,
     "metadata": {},
     "output_type": "execute_result"
    }
   ],
   "source": [
    "tr_dummies = pd.get_dummies(train_raw)\n",
    "tr_dummies.head()"
   ]
  },
  {
   "cell_type": "markdown",
   "id": "eb986492",
   "metadata": {},
   "source": [
    "Ho convertito anche tutti gli altri valori , utilizzando questo metodo get_dummies al fine di semplificare l'analisi dei dati e delle rappresentazioni grafiche\n",
    "\n"
   ]
  },
  {
   "cell_type": "code",
   "execution_count": 17,
   "id": "aaf81f8b",
   "metadata": {},
   "outputs": [
    {
     "data": {
      "text/plain": [
       "<AxesSubplot:>"
      ]
     },
     "execution_count": 17,
     "metadata": {},
     "output_type": "execute_result"
    },
    {
     "data": {
      "image/png": "[encoded data removed]",
      "text/plain": [
       "<Figure size 1080x576 with 1 Axes>"
      ]
     },
     "metadata": {
      "needs_background": "light"
     },
     "output_type": "display_data"
    }
   ],
   "source": [
    "#Calcolo della correlazione fra Status e le altre variabili \n",
    "plt.figure(figsize=(15,8))\n",
    "tr_dummies.corr()['status'].sort_values(ascending = False).plot(kind='bar')"
   ]
  },
  {
   "cell_type": "markdown",
   "id": "df3fe8ff",
   "metadata": {},
   "source": [
    "Una correlazione potrebbe essere positiva, nel senso che entrambe le variabili si muovono nella stessa direzione, o negativa, nel senso che quando il valore di una variabile aumenta, i valori delle altre variabili diminuiscono. La correlazione può anche essere neutra o zero, il che significa che le variabili non sono correlate , quindi la correlazione è nulla. A noi interessa vedere la correlazione con lo status ovviamente quindi confronteremo questa nel grafico.\n",
    "\n",
    "Mi aspettavo una correlazione molto alta fra \"status\" e \"salary\" , anche perche tutti quelli che sono senza lavoro non hanno uno stipendio offerto .. quando verrà fatta la classificazione gli studenti con \"salary\"=0 saranno classificati direttamente come \"Not Placed\" sebbene sia giusto il ragionamento voglio determinare se essi sono \"Placed\" o \"Non Placed\" in base alle loro ulteriori caratteristiche fornite . Quindi sicuramente successivamente eliminerò \"salary\"..\n",
    "\n",
    "Come studiato da kaggle -> \" Features with high correlation are more linearly dependent and hence have almost the same effect on the dependent variable. So, when two features have high correlation, we can drop one of the two features. \" \n",
    "In effetti a pensarci bene anche il punteggio di scuola media (ssc_p) non vedo come possa influire cosi tanto su un possibile collocamento nel mondo del lavoro . Ma vedrò bene successivamente cosa farne..\n"
   ]
  },
  {
   "cell_type": "markdown",
   "id": "a695d4dc",
   "metadata": {},
   "source": [
    "### Analisi del Status Rate "
   ]
  },
  {
   "cell_type": "code",
   "execution_count": 18,
   "id": "e2e7652c",
   "metadata": {},
   "outputs": [
    {
     "data": {
      "image/png": "[encoded data removed]",
      "text/plain": [
       "<Figure size 576x432 with 1 Axes>"
      ]
     },
     "metadata": {
      "needs_background": "light"
     },
     "output_type": "display_data"
    }
   ],
   "source": [
    "colors = ['#10CB4B','#EE2B2B']\n",
    "ax = (train_raw['status'].value_counts()*100.0/len(train_raw)).plot(kind='bar',stacked = True, rot = 0,\n",
    "                                                                    color = colors,\n",
    "                                                                    figsize = (8,6) \n",
    "                                                                    )\n",
    "ax.yaxis.set_major_formatter(mtick.PercentFormatter())\n",
    "ax.set_ylabel('% Student',size = 14)\n",
    "ax.set_xlabel('Status',size = 14)\n",
    "ax.set_title('Status Rate', size = 14)\n",
    "\n",
    "\n",
    "totals = []\n",
    "\n",
    "for i in ax.patches:\n",
    "    totals.append(i.get_width())\n",
    "\n",
    "total = sum(totals)\n",
    "\n",
    "for i in ax.patches:\n",
    " \n",
    "    ax.text(i.get_x()+.15, i.get_height()-4.0, \\\n",
    "            str(round((i.get_height()/total), 1))+'%',\n",
    "            fontsize=12,\n",
    "            color='white',\n",
    "           weight = 'bold',\n",
    "           size = 12)"
   ]
  },
  {
   "cell_type": "markdown",
   "id": "1c61681d",
   "metadata": {},
   "source": [
    "### 1 = Placed\n",
    "### 0 = Not Placed\n",
    "\n",
    "Il 68.2% di studenti è collocato nel mondo del lavoro , mentre il 31.8% no ..."
   ]
  },
  {
   "cell_type": "markdown",
   "id": "9ffb7451",
   "metadata": {},
   "source": [
    "### Analisi del Gender "
   ]
  },
  {
   "cell_type": "code",
   "execution_count": 19,
   "id": "fe4a2a39",
   "metadata": {},
   "outputs": [
    {
     "data": {
      "image/png": "[encoded data removed]",
      "text/plain": [
       "<Figure size 576x432 with 1 Axes>"
      ]
     },
     "metadata": {
      "needs_background": "light"
     },
     "output_type": "display_data"
    }
   ],
   "source": [
    "colors = ['#1D27ED','#F04CD8']\n",
    "ax = (train_raw['gender'].value_counts()*100.0/len(train_raw)).plot(kind='bar',stacked = True, rot = 0,\n",
    "                                                                    color = colors,\n",
    "                                                                    figsize = (8,6))\n",
    "ax.yaxis.set_major_formatter(mtick.PercentFormatter())\n",
    "ax.set_ylabel('% Student',size = 14)\n",
    "ax.set_xlabel('Gender',size = 14)\n",
    "ax.set_title('Gender Rate', size = 14)\n",
    "\n",
    "totals = []\n",
    "\n",
    "for i in ax.patches:\n",
    "    totals.append(i.get_width())\n",
    "\n",
    "total = sum(totals)\n",
    "\n",
    "for i in ax.patches:\n",
    " \n",
    "    ax.text(i.get_x()+.15, i.get_height()-4.0, \\\n",
    "            str(round((i.get_height()/total), 1))+'%',\n",
    "            fontsize=12,\n",
    "            color='white',\n",
    "           weight = 'bold',\n",
    "           size = 12)"
   ]
  },
  {
   "cell_type": "markdown",
   "id": "9fe27cb9",
   "metadata": {},
   "source": [
    "Abbiamo il 31% in piu di studenti maschi rispetto alle femmine."
   ]
  },
  {
   "cell_type": "code",
   "execution_count": 20,
   "id": "a9e74fa6",
   "metadata": {},
   "outputs": [
    {
     "data": {
      "image/png": "[encoded data removed]",
      "text/plain": [
       "<Figure size 576x432 with 1 Axes>"
      ]
     },
     "metadata": {
      "needs_background": "light"
     },
     "output_type": "display_data"
    }
   ],
   "source": [
    "colors = ['#1D27ED','#F04CD8']\n",
    "gender_churn = train_raw.groupby(['gender','status']).size().unstack()\n",
    "\n",
    "ax = (gender_churn.T*100.0 / gender_churn.T.sum()).T.plot(kind='bar',\n",
    "                                                                width = 0.2,\n",
    "                                                                stacked = True,\n",
    "                                                                rot = 0, \n",
    "                                                                figsize = (8,6),\n",
    "                                                                color = colors)\n",
    "ax.yaxis.set_major_formatter(mtick.PercentFormatter())\n",
    "ax.legend( [\"not placed\",\"placed\"] , loc='center',prop={'size':14},title = 'status' , )\n",
    "ax.set_ylabel('% Student')\n",
    "ax.set_title('Status by Gender',size = 14)\n",
    "\n",
    "for p in ax.patches:\n",
    "    width, height = p.get_width(), p.get_height()\n",
    "    x, y = p.get_xy() \n",
    "    ax.annotate('{:.0f}%'.format(height), (p.get_x()+.25*width, p.get_y()+.4*height),\n",
    "                color = 'white',\n",
    "               weight = 'bold',size =14)"
   ]
  },
  {
   "cell_type": "markdown",
   "id": "5ed10dde",
   "metadata": {},
   "source": [
    "Anche se il numero di ragazze è minore rispetto a quello dei ragazzi lo stato di collocazione è quasi equo! "
   ]
  },
  {
   "cell_type": "markdown",
   "id": "0ea41c93",
   "metadata": {},
   "source": [
    "### Analisi del Degree T (settore disciplinare di laurea)"
   ]
  },
  {
   "cell_type": "code",
   "execution_count": 21,
   "id": "22e286f4",
   "metadata": {},
   "outputs": [
    {
     "data": {
      "image/png": "[encoded data removed]",
      "text/plain": [
       "<Figure size 576x432 with 1 Axes>"
      ]
     },
     "metadata": {
      "needs_background": "light"
     },
     "output_type": "display_data"
    }
   ],
   "source": [
    "colors = ['#BD55F1','#0B892B', '#809DF5']\n",
    "ax = (train_raw['degree_t'].value_counts()*100.0/len(train_raw)).plot(kind='bar',stacked = True, rot = 0,\n",
    "                                                                    color = colors,\n",
    "                                                                    figsize = (8,6) \n",
    "                                                                    )\n",
    "ax.yaxis.set_major_formatter(mtick.PercentFormatter())\n",
    "ax.set_ylabel('% Student',size = 14)\n",
    "ax.set_xlabel('degree_t',size = 14)\n",
    "ax.set_title('degree_t Rate', size = 14)\n",
    "\n",
    "\n",
    "totals = []\n",
    "\n",
    "for i in ax.patches:\n",
    "    totals.append(i.get_width())\n",
    "\n",
    "total = sum(totals)\n",
    "\n",
    "for i in ax.patches:\n",
    " \n",
    "    ax.text(i.get_x()+.15, i.get_height()-4.0, \\\n",
    "            str(round((i.get_height()/total), 1))+'%',\n",
    "            fontsize=12,\n",
    "            color='white',\n",
    "           weight = 'bold',\n",
    "           size = 12)"
   ]
  },
  {
   "cell_type": "code",
   "execution_count": 22,
   "id": "798ac87d",
   "metadata": {},
   "outputs": [
    {
     "data": {
      "image/png": "[encoded data removed]",
      "text/plain": [
       "<Figure size 720x432 with 1 Axes>"
      ]
     },
     "metadata": {
      "needs_background": "light"
     },
     "output_type": "display_data"
    }
   ],
   "source": [
    "colors = ['#EE2B2B','#10CB4B']\n",
    "degree_status = train_raw.groupby(['degree_t','status']).size().unstack()\n",
    "\n",
    "ax = (degree_status.T*100.0 / degree_status.T.sum()).T.plot(kind='bar',\n",
    "                                                                width = 0.3,\n",
    "                                                                stacked = True,\n",
    "                                                                rot = 0, \n",
    "                                                                figsize = (10,6),\n",
    "                                                                color = colors)\n",
    "ax.yaxis.set_major_formatter(mtick.PercentFormatter())\n",
    "ax.legend([\"not placed\",\"placed\"],loc='best',prop={'size':14},title = 'Status')\n",
    "ax.set_ylabel('% Student',size = 14)\n",
    "ax.set_title('Status by Degree T',size = 14)\n",
    "\n",
    "# codice per aggiungere etich. al grafico\n",
    "for p in ax.patches:\n",
    "    width, height = p.get_width(), p.get_height()\n",
    "    x, y = p.get_xy() \n",
    "    ax.annotate('{:.0f}%'.format(height), (p.get_x()+.25*width, p.get_y()+.4*height),\n",
    "                color = 'white',  #numerelli\n",
    "               weight = 'bold',\n",
    "               size = 14)"
   ]
  },
  {
   "cell_type": "code",
   "execution_count": 23,
   "id": "7034a677",
   "metadata": {},
   "outputs": [
    {
     "data": {
      "text/html": [
       "<div>\n",
       "<style scoped>\n",
       "    .dataframe tbody tr th:only-of-type {\n",
       "        vertical-align: middle;\n",
       "    }\n",
       "\n",
       "    .dataframe tbody tr th {\n",
       "        vertical-align: top;\n",
       "    }\n",
       "\n",
       "    .dataframe thead th {\n",
       "        text-align: right;\n",
       "    }\n",
       "</style>\n",
       "<table border=\"1\" class=\"dataframe\">\n",
       "  <thead>\n",
       "    <tr style=\"text-align: right;\">\n",
       "      <th></th>\n",
       "      <th>count</th>\n",
       "    </tr>\n",
       "    <tr>\n",
       "      <th>degree_t</th>\n",
       "      <th></th>\n",
       "    </tr>\n",
       "  </thead>\n",
       "  <tbody>\n",
       "    <tr>\n",
       "      <th>Comm&amp;Mgmt</th>\n",
       "      <td>90</td>\n",
       "    </tr>\n",
       "    <tr>\n",
       "      <th>Others</th>\n",
       "      <td>7</td>\n",
       "    </tr>\n",
       "    <tr>\n",
       "      <th>Sci&amp;Tech</th>\n",
       "      <td>32</td>\n",
       "    </tr>\n",
       "  </tbody>\n",
       "</table>\n",
       "</div>"
      ],
      "text/plain": [
       "           count\n",
       "degree_t        \n",
       "Comm&Mgmt     90\n",
       "Others         7\n",
       "Sci&Tech      32"
      ]
     },
     "execution_count": 23,
     "metadata": {},
     "output_type": "execute_result"
    }
   ],
   "source": [
    "degCount = train_raw.groupby('degree_t')['status'].agg(['count'])\n",
    "degCount"
   ]
  },
  {
   "cell_type": "markdown",
   "id": "179e83d9",
   "metadata": {},
   "source": [
    "Come possiamo vedere dal primo grafico il numero di studenti laureati in Comm&Mgmt è superiore di quasi il triplo rispetto agli studenti laureati in Sci&Tech, mentre gli studenti laureati in altro sono in netta minoranza rispetto a tutti gli altri . \n",
    "Dal secondo grafico si puo notare che gli studenti di Comm&Mgmt e Sci&Tech hanno le stesse % di placed ma nel primo caso gli studenti sono molti di piu ! Sci&Tech posso anche rimuoverlo ma sarebbe inutile sono talmente pochi !!"
   ]
  },
  {
   "cell_type": "markdown",
   "id": "49c01b53",
   "metadata": {},
   "source": [
    "### Analisi del Workex ( esperienza lavorativa) "
   ]
  },
  {
   "cell_type": "code",
   "execution_count": 24,
   "id": "121425e8",
   "metadata": {},
   "outputs": [
    {
     "data": {
      "image/png": "[encoded data removed]",
      "text/plain": [
       "<Figure size 576x432 with 1 Axes>"
      ]
     },
     "metadata": {
      "needs_background": "light"
     },
     "output_type": "display_data"
    }
   ],
   "source": [
    "colors = ['#0A7F6E','#C6A810']\n",
    "ax = (train_raw['workex'].value_counts()*100.0/len(train_raw)).plot(kind='bar',stacked = True, rot = 0,\n",
    "                                                                    color = colors,\n",
    "                                                                    figsize = (8,6) \n",
    "                                                                    )\n",
    "ax.yaxis.set_major_formatter(mtick.PercentFormatter())\n",
    "ax.set_ylabel('% Student',size = 14)\n",
    "ax.set_xlabel('Workex',size = 14)\n",
    "ax.set_title('Workex Rate', size = 14)\n",
    "\n",
    "\n",
    "totals = []\n",
    "\n",
    "for i in ax.patches:\n",
    "    totals.append(i.get_width())\n",
    "\n",
    "total = sum(totals)\n",
    "\n",
    "for i in ax.patches:\n",
    " \n",
    "    ax.text(i.get_x()+.15, i.get_height()-4.0, \\\n",
    "            str(round((i.get_height()/total), 1))+'%',\n",
    "            fontsize=12,\n",
    "            color='white',\n",
    "           weight = 'bold',\n",
    "           size = 12)"
   ]
  },
  {
   "cell_type": "code",
   "execution_count": 25,
   "id": "e25e7111",
   "metadata": {},
   "outputs": [
    {
     "data": {
      "image/png": "[encoded data removed]",
      "text/plain": [
       "<Figure size 576x432 with 1 Axes>"
      ]
     },
     "metadata": {
      "needs_background": "light"
     },
     "output_type": "display_data"
    }
   ],
   "source": [
    "colors = ['#EE2B2B','#10CB4B']\n",
    "workex_status = train_raw.groupby(['workex','status']).size().unstack()\n",
    "\n",
    "ax = (workex_status.T*100.0 / workex_status.T.sum()).T.plot(kind='bar',\n",
    "                                                                width = 0.2,\n",
    "                                                                stacked = True,\n",
    "                                                                rot = 0, \n",
    "                                                                figsize = (8,6),\n",
    "                                                                color = colors)\n",
    "ax.yaxis.set_major_formatter(mtick.PercentFormatter())\n",
    "ax.legend( [\"not placed\",\"placed\"] , loc='center',prop={'size':14},title = 'status' , )\n",
    "ax.set_ylabel('% Student')\n",
    "ax.set_title('Status by WorkEx',size = 14)\n",
    "\n",
    "for p in ax.patches:\n",
    "    width, height = p.get_width(), p.get_height()\n",
    "    x, y = p.get_xy() \n",
    "    ax.annotate('{:.0f}%'.format(height), (p.get_x()+.25*width, p.get_y()+.4*height),\n",
    "                color = 'white',\n",
    "               weight = 'bold',size =14)"
   ]
  },
  {
   "cell_type": "markdown",
   "id": "f3ffb154",
   "metadata": {},
   "source": [
    "Piu del 34% dei ragazzi ha già avuto un'esperienza lavorativa , mentre il restante 66% no(dal primo grafico)..  In effetti le esperienze lavorative fatte sono molto imporanti , infatti dall'ultimo grafico si puo notare la differenza solo una piccola parte (16%) degli studenti che ha avuto esperienza lavorativa non lavora , il resto 84% è collocato . Mentre il 40% delle persone che non ha avuto esperienze lavorative , non è collocato . \n",
    "C'è una bella differenza fra 16 e 40 % ! feature importante."
   ]
  },
  {
   "cell_type": "markdown",
   "id": "9f08814a",
   "metadata": {},
   "source": [
    "### Analisi dello specialisation ( specializzazione) "
   ]
  },
  {
   "cell_type": "code",
   "execution_count": 26,
   "id": "48bebcc6",
   "metadata": {},
   "outputs": [
    {
     "data": {
      "image/png": "[encoded data removed]",
      "text/plain": [
       "<Figure size 576x432 with 1 Axes>"
      ]
     },
     "metadata": {
      "needs_background": "light"
     },
     "output_type": "display_data"
    }
   ],
   "source": [
    "colors = ['#13BDEC','#0E0101']\n",
    "ax = (train_raw['specialisation'].value_counts()*100.0/len(train_raw)).plot(kind='bar',stacked = True, rot = 0,\n",
    "                                                                    color = colors,\n",
    "                                                                    figsize = (8,6) \n",
    "                                                                    )\n",
    "ax.yaxis.set_major_formatter(mtick.PercentFormatter())\n",
    "ax.set_ylabel('% Student',size = 14)\n",
    "ax.set_xlabel('Specialisation',size = 14)\n",
    "ax.set_title('specialisation Rate', size = 14)\n",
    "\n",
    "\n",
    "totals = []\n",
    "\n",
    "for i in ax.patches:\n",
    "    totals.append(i.get_width())\n",
    "\n",
    "total = sum(totals)\n",
    "\n",
    "for i in ax.patches:\n",
    " \n",
    "    ax.text(i.get_x()+.15, i.get_height()-4.0, \\\n",
    "            str(round((i.get_height()/total), 1))+'%',\n",
    "            fontsize=12,\n",
    "            color='white',\n",
    "           weight = 'bold',\n",
    "           size = 12)"
   ]
  },
  {
   "cell_type": "code",
   "execution_count": 27,
   "id": "12bfd6a3",
   "metadata": {},
   "outputs": [
    {
     "data": {
      "image/png": "[encoded data removed]",
      "text/plain": [
       "<Figure size 576x432 with 1 Axes>"
      ]
     },
     "metadata": {
      "needs_background": "light"
     },
     "output_type": "display_data"
    }
   ],
   "source": [
    "colors = ['#EE2B2B','#10CB4B']\n",
    "spec_status = train_raw.groupby(['specialisation','status']).size().unstack()\n",
    "\n",
    "ax = (spec_status.T*100.0 / spec_status.T.sum()).T.plot(kind='bar',\n",
    "                                                                width = 0.2,\n",
    "                                                                stacked = True,\n",
    "                                                                rot = 0, \n",
    "                                                                figsize = (8,6),\n",
    "                                                                color = colors)\n",
    "ax.yaxis.set_major_formatter(mtick.PercentFormatter())\n",
    "ax.legend( [\"not placed\",\"placed\"] , loc='center',prop={'size':14},title = 'status' , )\n",
    "ax.set_ylabel('% Student')\n",
    "ax.set_title('Status by Specialisation',size = 14)\n",
    "\n",
    "for p in ax.patches:\n",
    "    width, height = p.get_width(), p.get_height()\n",
    "    x, y = p.get_xy() \n",
    "    ax.annotate('{:.0f}%'.format(height), (p.get_x()+.25*width, p.get_y()+.4*height),\n",
    "                color = 'white',\n",
    "               weight = 'bold',size =14)"
   ]
  },
  {
   "cell_type": "markdown",
   "id": "9fd2db3d",
   "metadata": {},
   "source": [
    "Tutti gli studenti debbono avere una specializzazione post laurea poichè non abbiamo trovato nessun valore mancante . Diciamo che le due specializzazioni sono equipartite fra gli studenti . Però nel primo caso gli studenti con specializzazione in Mkt&Fin sono un pochino piu avvantaggiati a trovare collocazione rispetto agli altri con specializzazione Mkt&HR , Fin>HR a quanto pare .. "
   ]
  },
  {
   "cell_type": "markdown",
   "id": "a7da33d8",
   "metadata": {},
   "source": [
    "### Analisi della hsc_s ( tipologia del liceo)"
   ]
  },
  {
   "cell_type": "code",
   "execution_count": 28,
   "id": "638246b8",
   "metadata": {},
   "outputs": [
    {
     "data": {
      "image/png": "[encoded data removed]",
      "text/plain": [
       "<Figure size 576x432 with 1 Axes>"
      ]
     },
     "metadata": {
      "needs_background": "light"
     },
     "output_type": "display_data"
    }
   ],
   "source": [
    "colors = ['#06470D','#7B50F1', '#F1D950']\n",
    "ax = (train_raw['hsc_s'].value_counts()*100.0/len(train_raw)).plot(kind='bar',stacked = True, rot = 0,\n",
    "                                                                    color = colors,\n",
    "                                                                    figsize = (8,6) \n",
    "                                                                    )\n",
    "ax.yaxis.set_major_formatter(mtick.PercentFormatter())\n",
    "ax.set_ylabel('% Student',size = 14)\n",
    "ax.set_xlabel('hsc_s',size = 14)\n",
    "ax.set_title('hsc_s Rate', size = 14)\n",
    "\n",
    "\n",
    "totals = []\n",
    "\n",
    "for i in ax.patches:\n",
    "    totals.append(i.get_width())\n",
    "\n",
    "total = sum(totals)\n",
    "\n",
    "for i in ax.patches:\n",
    " \n",
    "    ax.text(i.get_x()+.15, i.get_height()-4.0, \\\n",
    "            str(round((i.get_height()/total), 1))+'%',\n",
    "            fontsize=12,\n",
    "            color='white',\n",
    "           weight = 'bold',\n",
    "           size = 12)"
   ]
  },
  {
   "cell_type": "code",
   "execution_count": 29,
   "id": "5779fe27",
   "metadata": {},
   "outputs": [
    {
     "data": {
      "image/png": "[encoded data removed]",
      "text/plain": [
       "<Figure size 576x432 with 1 Axes>"
      ]
     },
     "metadata": {
      "needs_background": "light"
     },
     "output_type": "display_data"
    }
   ],
   "source": [
    "colors = ['#EE2B2B','#10CB4B']\n",
    "hscs_status = train_raw.groupby(['hsc_s','status']).size().unstack()\n",
    "\n",
    "ax = (hscs_status.T*100.0 / hscs_status.T.sum()).T.plot(kind='bar',\n",
    "                                                                width = 0.2,\n",
    "                                                                stacked = True,\n",
    "                                                                rot = 0, \n",
    "                                                                figsize = (8,6),\n",
    "                                                                color = colors)\n",
    "ax.yaxis.set_major_formatter(mtick.PercentFormatter())\n",
    "ax.legend( [\"not placed\",\"placed\"] , loc='center',prop={'size':14},title = 'status' , )\n",
    "ax.set_ylabel('% Student')\n",
    "ax.set_title('Status by Specialisation',size = 14)\n",
    "\n",
    "for p in ax.patches:\n",
    "    width, height = p.get_width(), p.get_height()\n",
    "    x, y = p.get_xy() \n",
    "    ax.annotate('{:.0f}%'.format(height), (p.get_x()+.25*width, p.get_y()+.4*height),\n",
    "                color = 'white',\n",
    "               weight = 'bold',size =14)"
   ]
  },
  {
   "cell_type": "markdown",
   "id": "a62837cb",
   "metadata": {},
   "source": [
    "Come possiamo vedere gli studenti del \"Commerce\" sono quelli che hanno piu tasso di occupazione ben 73% , mentre un 50% per gli studenti di \"Arts\" e un 64% per quelli di \"Science\" , in effetti sembra anche dalle analisi fatte in precedenza che i ragazzi con specializzazioni in ambito commerciale siano piu propensi ad essere nello status \"placed\" MA bisogna dire che sono anche in maggioranza e quindi piu o meno sono bilanciate mentre Arts non fa molto testo poichè rappresenta davvero una minimissima parte!"
   ]
  },
  {
   "cell_type": "markdown",
   "id": "fef61208",
   "metadata": {},
   "source": [
    "### Analisi hsc_b ( commissione esterna / interna per diploma)"
   ]
  },
  {
   "cell_type": "code",
   "execution_count": 30,
   "id": "fb749643",
   "metadata": {},
   "outputs": [
    {
     "data": {
      "image/png": "[encoded data removed]",
      "text/plain": [
       "<Figure size 576x432 with 1 Axes>"
      ]
     },
     "metadata": {
      "needs_background": "light"
     },
     "output_type": "display_data"
    }
   ],
   "source": [
    "colors = ['#F47676','#0E0101']\n",
    "ax = (train_raw['hsc_b'].value_counts()*100.0/len(train_raw)).plot(kind='bar',stacked = True, rot = 0,\n",
    "                                                                    color = colors,\n",
    "                                                                    figsize = (8,6) \n",
    "                                                                    )\n",
    "ax.yaxis.set_major_formatter(mtick.PercentFormatter())\n",
    "ax.set_ylabel('% Student',size = 14)\n",
    "ax.set_xlabel('hsc_b',size = 14)\n",
    "ax.set_title('hsc_b Rate', size = 14)\n",
    "\n",
    "\n",
    "totals = []\n",
    "\n",
    "for i in ax.patches:\n",
    "    totals.append(i.get_width())\n",
    "\n",
    "total = sum(totals)\n",
    "\n",
    "for i in ax.patches:\n",
    " \n",
    "    ax.text(i.get_x()+.15, i.get_height()-4.0, \\\n",
    "            str(round((i.get_height()/total), 1))+'%',\n",
    "            fontsize=12,\n",
    "            color='white',\n",
    "           weight = 'bold',\n",
    "           size = 12)"
   ]
  },
  {
   "cell_type": "code",
   "execution_count": 31,
   "id": "3f9a63b4",
   "metadata": {},
   "outputs": [
    {
     "data": {
      "image/png": "[encoded data removed]",
      "text/plain": [
       "<Figure size 576x432 with 1 Axes>"
      ]
     },
     "metadata": {
      "needs_background": "light"
     },
     "output_type": "display_data"
    }
   ],
   "source": [
    "colors = ['#EE2B2B','#10CB4B']\n",
    "hscb_status = train_raw.groupby(['hsc_b','status']).size().unstack()\n",
    "\n",
    "ax = (hscb_status.T*100.0 / hscb_status.T.sum()).T.plot(kind='bar',\n",
    "                                                                width = 0.2,\n",
    "                                                                stacked = True,\n",
    "                                                                rot = 0, \n",
    "                                                                figsize = (8,6),\n",
    "                                                                color = colors)\n",
    "ax.yaxis.set_major_formatter(mtick.PercentFormatter())\n",
    "ax.legend( [\"not placed\",\"placed\"] , loc='center',prop={'size':14},title = 'status' , )\n",
    "ax.set_ylabel('% Student')\n",
    "ax.set_title('Status by Specialisation',size = 14)\n",
    "\n",
    "for p in ax.patches:\n",
    "    width, height = p.get_width(), p.get_height()\n",
    "    x, y = p.get_xy() \n",
    "    ax.annotate('{:.0f}%'.format(height), (p.get_x()+.25*width, p.get_y()+.4*height),\n",
    "                color = 'white',\n",
    "               weight = 'bold',size =14)"
   ]
  },
  {
   "cell_type": "markdown",
   "id": "df75200b",
   "metadata": {},
   "source": [
    "Statistiche praticamente identiche .. feature che influisce molto poco sui nostri studi , può essere droppata."
   ]
  },
  {
   "cell_type": "markdown",
   "id": "d1fab4d9",
   "metadata": {},
   "source": [
    "### Analisi dell' etest_p ( punteggio test di collocabilità) "
   ]
  },
  {
   "cell_type": "code",
   "execution_count": 32,
   "id": "54259ee6",
   "metadata": {},
   "outputs": [
    {
     "data": {
      "text/plain": [
       "<AxesSubplot:xlabel='status', ylabel='etest_p'>"
      ]
     },
     "execution_count": 32,
     "metadata": {},
     "output_type": "execute_result"
    },
    {
     "data": {
      "image/png": "[encoded data removed]",
      "text/plain": [
       "<Figure size 432x288 with 1 Axes>"
      ]
     },
     "metadata": {
      "needs_background": "light"
     },
     "output_type": "display_data"
    }
   ],
   "source": [
    "sns.boxenplot(x=train_raw['status'], y=train_raw['etest_p'],\n",
    "              color=\"blue\", \n",
    "              scale=\"linear\", data=train_raw)"
   ]
  },
  {
   "cell_type": "code",
   "execution_count": 33,
   "id": "81e24734",
   "metadata": {},
   "outputs": [
    {
     "data": {
      "text/html": [
       "<div>\n",
       "<style scoped>\n",
       "    .dataframe tbody tr th:only-of-type {\n",
       "        vertical-align: middle;\n",
       "    }\n",
       "\n",
       "    .dataframe tbody tr th {\n",
       "        vertical-align: top;\n",
       "    }\n",
       "\n",
       "    .dataframe thead th {\n",
       "        text-align: right;\n",
       "    }\n",
       "</style>\n",
       "<table border=\"1\" class=\"dataframe\">\n",
       "  <thead>\n",
       "    <tr style=\"text-align: right;\">\n",
       "      <th></th>\n",
       "      <th>status</th>\n",
       "      <th>etest_p</th>\n",
       "    </tr>\n",
       "  </thead>\n",
       "  <tbody>\n",
       "    <tr>\n",
       "      <th>1</th>\n",
       "      <td>1</td>\n",
       "      <td>73.682273</td>\n",
       "    </tr>\n",
       "    <tr>\n",
       "      <th>0</th>\n",
       "      <td>0</td>\n",
       "      <td>69.284878</td>\n",
       "    </tr>\n",
       "  </tbody>\n",
       "</table>\n",
       "</div>"
      ],
      "text/plain": [
       "   status    etest_p\n",
       "1       1  73.682273\n",
       "0       0  69.284878"
      ]
     },
     "execution_count": 33,
     "metadata": {},
     "output_type": "execute_result"
    }
   ],
   "source": [
    "train_raw.groupby(['status'])['etest_p'].mean().reset_index().sort_values('etest_p', ascending=False)"
   ]
  },
  {
   "cell_type": "code",
   "execution_count": 34,
   "id": "2878f95f",
   "metadata": {},
   "outputs": [
    {
     "data": {
      "text/html": [
       "<div>\n",
       "<style scoped>\n",
       "    .dataframe tbody tr th:only-of-type {\n",
       "        vertical-align: middle;\n",
       "    }\n",
       "\n",
       "    .dataframe tbody tr th {\n",
       "        vertical-align: top;\n",
       "    }\n",
       "\n",
       "    .dataframe thead th {\n",
       "        text-align: right;\n",
       "    }\n",
       "</style>\n",
       "<table border=\"1\" class=\"dataframe\">\n",
       "  <thead>\n",
       "    <tr style=\"text-align: right;\">\n",
       "      <th></th>\n",
       "      <th>status</th>\n",
       "      <th>etest_p</th>\n",
       "    </tr>\n",
       "  </thead>\n",
       "  <tbody>\n",
       "    <tr>\n",
       "      <th>1</th>\n",
       "      <td>1</td>\n",
       "      <td>88</td>\n",
       "    </tr>\n",
       "    <tr>\n",
       "      <th>0</th>\n",
       "      <td>0</td>\n",
       "      <td>41</td>\n",
       "    </tr>\n",
       "  </tbody>\n",
       "</table>\n",
       "</div>"
      ],
      "text/plain": [
       "   status  etest_p\n",
       "1       1       88\n",
       "0       0       41"
      ]
     },
     "execution_count": 34,
     "metadata": {},
     "output_type": "execute_result"
    }
   ],
   "source": [
    "train_raw.groupby(['status'])['etest_p'].count().reset_index().sort_values('etest_p', ascending=False)"
   ]
  },
  {
   "cell_type": "markdown",
   "id": "64e9a3fc",
   "metadata": {},
   "source": [
    "Il   Punteggio test di collocabilità  potrebbe influire su di essa , potrebbe darsi che se il punteggio è alto più grande sarà la possibilità di essere nello stato placed , MA OVVIAMENTE si vede dal grafico che non è esattamente cosi anche perchè la media che possiamo vedere nel penultimo grafico generato non è poi tanto diversa..mi aspettavo una divisione piu netta ..però c'è anche da dire che i ragazzi con status placed sono il doppio degli altri .. tecnicamente dovrebbe essere un parametro molto importante/soglia per poter essere assunto in un futuro .."
   ]
  },
  {
   "cell_type": "markdown",
   "id": "353c1766",
   "metadata": {},
   "source": [
    "## Analisi dell' degree_p ( punteggio laurea)"
   ]
  },
  {
   "cell_type": "code",
   "execution_count": 35,
   "id": "c4862208",
   "metadata": {},
   "outputs": [
    {
     "data": {
      "text/plain": [
       "<AxesSubplot:xlabel='status', ylabel='degree_p'>"
      ]
     },
     "execution_count": 35,
     "metadata": {},
     "output_type": "execute_result"
    },
    {
     "data": {
      "image/png": "[encoded data removed]",
      "text/plain": [
       "<Figure size 432x288 with 1 Axes>"
      ]
     },
     "metadata": {
      "needs_background": "light"
     },
     "output_type": "display_data"
    }
   ],
   "source": [
    "sns.boxenplot(x=train_raw['status'], y=train_raw['degree_p'],\n",
    "              color=\"yellow\", \n",
    "              scale=\"linear\", data=train_raw)"
   ]
  },
  {
   "cell_type": "markdown",
   "id": "9eea1673",
   "metadata": {},
   "source": [
    "Qui c'è una differenza leggermente piu netta rispetto a prima .. ed essa varia rispetto al punteggio ottenuto da unan laurea! "
   ]
  },
  {
   "cell_type": "markdown",
   "id": "9aae65ec",
   "metadata": {},
   "source": [
    "## Analisi dell' hsc_p (punteggio diploma)"
   ]
  },
  {
   "cell_type": "code",
   "execution_count": 36,
   "id": "5aedf19f",
   "metadata": {},
   "outputs": [
    {
     "data": {
      "text/plain": [
       "<AxesSubplot:xlabel='status', ylabel='hsc_p'>"
      ]
     },
     "execution_count": 36,
     "metadata": {},
     "output_type": "execute_result"
    },
    {
     "data": {
      "image/png": "[encoded data removed]",
      "text/plain": [
       "<Figure size 432x288 with 1 Axes>"
      ]
     },
     "metadata": {
      "needs_background": "light"
     },
     "output_type": "display_data"
    }
   ],
   "source": [
    "sns.boxenplot(x=train_raw['status'], y=train_raw['hsc_p'],\n",
    "              color=\"pink\", \n",
    "              scale=\"linear\", data=train_raw)"
   ]
  },
  {
   "cell_type": "markdown",
   "id": "d673fcb5",
   "metadata": {},
   "source": [
    "Affluenza maggiore di placed con voti > di 70 .. infatti possiamo notare che proprio nella prima tabella generata quando stavo analizzando gli studenti con salario 0 e quindi stato \"not Placed\" è possibile vedere che in pochi superano il voto 70 (giusto un paio) "
   ]
  },
  {
   "cell_type": "markdown",
   "id": "a5bf9f01",
   "metadata": {},
   "source": [
    "## Analisi ssc_p (punteggio medie)"
   ]
  },
  {
   "cell_type": "code",
   "execution_count": 38,
   "id": "1e81d455",
   "metadata": {},
   "outputs": [
    {
     "data": {
      "text/plain": [
       "<AxesSubplot:xlabel='status', ylabel='ssc_p'>"
      ]
     },
     "execution_count": 38,
     "metadata": {},
     "output_type": "execute_result"
    },
    {
     "data": {
      "image/png": "[encoded data removed]",
      "text/plain": [
       "<Figure size 432x288 with 1 Axes>"
      ]
     },
     "metadata": {
      "needs_background": "light"
     },
     "output_type": "display_data"
    }
   ],
   "source": [
    "sns.boxenplot(x=train_raw['status'], y=train_raw['ssc_p'],\n",
    "              color=\"orange\", \n",
    "              scale=\"linear\", data=train_raw)"
   ]
  },
  {
   "cell_type": "markdown",
   "id": "477623ed",
   "metadata": {},
   "source": [
    "La maggior parte di studenti che hanno preso un superiore a 70 sono nello status 1 . Forse è una coincidenza? Dato che a RAGIONAMENTO il voto delle medie potrebbe influire molto poco dato che poi gli studi hanno un seguito piu importante. Però i dati parlano chiaro e dropparlo sarebbe un po un rischio anche se intuitivamente lo avrei droppato subito..."
   ]
  },
  {
   "cell_type": "markdown",
   "id": "fea5ffcd",
   "metadata": {},
   "source": [
    "## Analisi MBA_p ( punteggio specializzazione post laurea)"
   ]
  },
  {
   "cell_type": "code",
   "execution_count": 39,
   "id": "86c48538",
   "metadata": {},
   "outputs": [
    {
     "data": {
      "text/plain": [
       "<AxesSubplot:xlabel='status', ylabel='mba_p'>"
      ]
     },
     "execution_count": 39,
     "metadata": {},
     "output_type": "execute_result"
    },
    {
     "data": {
      "image/png": "[encoded data removed]",
      "text/plain": [
       "<Figure size 432x288 with 1 Axes>"
      ]
     },
     "metadata": {
      "needs_background": "light"
     },
     "output_type": "display_data"
    }
   ],
   "source": [
    "sns.boxenplot(x=train_raw['status'], y=train_raw['mba_p'],\n",
    "              color=\"green\", \n",
    "              scale=\"linear\", data=train_raw)"
   ]
  },
  {
   "cell_type": "markdown",
   "id": "23e2eb14",
   "metadata": {},
   "source": [
    "Uno studente con votazione simile o uguale potrebbe essere nello stato placed oppure no , anzi studente con mba bassa potrebbe essere nello status placed e uno con punteggio mba alto no , dal grafico si capisce questo .. non penso sia una feature molto significativa "
   ]
  },
  {
   "cell_type": "code",
   "execution_count": 41,
   "id": "3f27293f",
   "metadata": {},
   "outputs": [
    {
     "data": {
      "text/plain": [
       "<AxesSubplot:title={'center':'Correlazione dei dati di Train'}>"
      ]
     },
     "execution_count": 41,
     "metadata": {},
     "output_type": "execute_result"
    },
    {
     "data": {
      "image/png": "[encoded data removed]",
      "text/plain": [
       "<Figure size 1584x864 with 2 Axes>"
      ]
     },
     "metadata": {
      "needs_background": "light"
     },
     "output_type": "display_data"
    }
   ],
   "source": [
    "plt.figure(figsize=(22,12))\n",
    "plt.title(\"Correlazione dei dati di Train\")\n",
    "sns.heatmap(data=tr_dummies.corr(), annot=True)"
   ]
  },
  {
   "cell_type": "markdown",
   "id": "662b2157",
   "metadata": {},
   "source": [
    "Visualizzo la heatmap che mi fa capire quale sia la correlazione che ho fra le feature !"
   ]
  },
  {
   "cell_type": "markdown",
   "id": "9ce63004",
   "metadata": {},
   "source": [
    "## Prima di passare all'addestramento dei dati , faccio della pulizia sui dati di test .¶\n",
    "Attuo gli stessi procedimenti che ho fatto inizialmente con i dati di TRAIN , ora lo faccio con quelli di TEST."
   ]
  },
  {
   "cell_type": "code",
   "execution_count": 42,
   "id": "fc6ee204",
   "metadata": {},
   "outputs": [],
   "source": [
    "test_raw['status'].replace(to_replace='Placed', value=1, inplace=True)\n",
    "test_raw['status'].replace(to_replace='Not Placed',  value=0, inplace=True)"
   ]
  },
  {
   "cell_type": "code",
   "execution_count": 43,
   "id": "a4ed2c84",
   "metadata": {},
   "outputs": [
    {
     "data": {
      "text/html": [
       "<div>\n",
       "<style scoped>\n",
       "    .dataframe tbody tr th:only-of-type {\n",
       "        vertical-align: middle;\n",
       "    }\n",
       "\n",
       "    .dataframe tbody tr th {\n",
       "        vertical-align: top;\n",
       "    }\n",
       "\n",
       "    .dataframe thead th {\n",
       "        text-align: right;\n",
       "    }\n",
       "</style>\n",
       "<table border=\"1\" class=\"dataframe\">\n",
       "  <thead>\n",
       "    <tr style=\"text-align: right;\">\n",
       "      <th></th>\n",
       "      <th>status</th>\n",
       "      <th>ssc_p</th>\n",
       "      <th>hsc_p</th>\n",
       "      <th>degree_p</th>\n",
       "      <th>etest_p</th>\n",
       "      <th>mba_p</th>\n",
       "      <th>salary</th>\n",
       "      <th>gender_F</th>\n",
       "      <th>gender_M</th>\n",
       "      <th>ssc_b_Central</th>\n",
       "      <th>...</th>\n",
       "      <th>hsc_s_Arts</th>\n",
       "      <th>hsc_s_Commerce</th>\n",
       "      <th>hsc_s_Science</th>\n",
       "      <th>degree_t_Comm&amp;Mgmt</th>\n",
       "      <th>degree_t_Others</th>\n",
       "      <th>degree_t_Sci&amp;Tech</th>\n",
       "      <th>workex_No</th>\n",
       "      <th>workex_Yes</th>\n",
       "      <th>specialisation_Mkt&amp;Fin</th>\n",
       "      <th>specialisation_Mkt&amp;HR</th>\n",
       "    </tr>\n",
       "  </thead>\n",
       "  <tbody>\n",
       "    <tr>\n",
       "      <th>0</th>\n",
       "      <td>1</td>\n",
       "      <td>65.00</td>\n",
       "      <td>68.00</td>\n",
       "      <td>69.00</td>\n",
       "      <td>53.70</td>\n",
       "      <td>55.01</td>\n",
       "      <td>250000.0</td>\n",
       "      <td>0</td>\n",
       "      <td>1</td>\n",
       "      <td>1</td>\n",
       "      <td>...</td>\n",
       "      <td>0</td>\n",
       "      <td>0</td>\n",
       "      <td>1</td>\n",
       "      <td>1</td>\n",
       "      <td>0</td>\n",
       "      <td>0</td>\n",
       "      <td>1</td>\n",
       "      <td>0</td>\n",
       "      <td>0</td>\n",
       "      <td>1</td>\n",
       "    </tr>\n",
       "    <tr>\n",
       "      <th>1</th>\n",
       "      <td>0</td>\n",
       "      <td>59.96</td>\n",
       "      <td>42.16</td>\n",
       "      <td>61.26</td>\n",
       "      <td>54.48</td>\n",
       "      <td>65.48</td>\n",
       "      <td>0.0</td>\n",
       "      <td>0</td>\n",
       "      <td>1</td>\n",
       "      <td>0</td>\n",
       "      <td>...</td>\n",
       "      <td>0</td>\n",
       "      <td>0</td>\n",
       "      <td>1</td>\n",
       "      <td>0</td>\n",
       "      <td>0</td>\n",
       "      <td>1</td>\n",
       "      <td>1</td>\n",
       "      <td>0</td>\n",
       "      <td>0</td>\n",
       "      <td>1</td>\n",
       "    </tr>\n",
       "    <tr>\n",
       "      <th>2</th>\n",
       "      <td>0</td>\n",
       "      <td>40.89</td>\n",
       "      <td>45.83</td>\n",
       "      <td>53.00</td>\n",
       "      <td>71.20</td>\n",
       "      <td>65.49</td>\n",
       "      <td>0.0</td>\n",
       "      <td>1</td>\n",
       "      <td>0</td>\n",
       "      <td>0</td>\n",
       "      <td>...</td>\n",
       "      <td>0</td>\n",
       "      <td>1</td>\n",
       "      <td>0</td>\n",
       "      <td>1</td>\n",
       "      <td>0</td>\n",
       "      <td>0</td>\n",
       "      <td>1</td>\n",
       "      <td>0</td>\n",
       "      <td>0</td>\n",
       "      <td>1</td>\n",
       "    </tr>\n",
       "    <tr>\n",
       "      <th>3</th>\n",
       "      <td>1</td>\n",
       "      <td>60.80</td>\n",
       "      <td>68.40</td>\n",
       "      <td>64.60</td>\n",
       "      <td>82.66</td>\n",
       "      <td>64.34</td>\n",
       "      <td>940000.0</td>\n",
       "      <td>0</td>\n",
       "      <td>1</td>\n",
       "      <td>1</td>\n",
       "      <td>...</td>\n",
       "      <td>0</td>\n",
       "      <td>1</td>\n",
       "      <td>0</td>\n",
       "      <td>1</td>\n",
       "      <td>0</td>\n",
       "      <td>0</td>\n",
       "      <td>0</td>\n",
       "      <td>1</td>\n",
       "      <td>1</td>\n",
       "      <td>0</td>\n",
       "    </tr>\n",
       "    <tr>\n",
       "      <th>4</th>\n",
       "      <td>1</td>\n",
       "      <td>73.00</td>\n",
       "      <td>78.00</td>\n",
       "      <td>73.00</td>\n",
       "      <td>85.00</td>\n",
       "      <td>65.83</td>\n",
       "      <td>240000.0</td>\n",
       "      <td>0</td>\n",
       "      <td>1</td>\n",
       "      <td>1</td>\n",
       "      <td>...</td>\n",
       "      <td>0</td>\n",
       "      <td>0</td>\n",
       "      <td>1</td>\n",
       "      <td>0</td>\n",
       "      <td>0</td>\n",
       "      <td>1</td>\n",
       "      <td>0</td>\n",
       "      <td>1</td>\n",
       "      <td>0</td>\n",
       "      <td>1</td>\n",
       "    </tr>\n",
       "  </tbody>\n",
       "</table>\n",
       "<p>5 rows × 23 columns</p>\n",
       "</div>"
      ],
      "text/plain": [
       "   status  ssc_p  hsc_p  degree_p  etest_p  mba_p    salary  gender_F  \\\n",
       "0       1  65.00  68.00     69.00    53.70  55.01  250000.0         0   \n",
       "1       0  59.96  42.16     61.26    54.48  65.48       0.0         0   \n",
       "2       0  40.89  45.83     53.00    71.20  65.49       0.0         1   \n",
       "3       1  60.80  68.40     64.60    82.66  64.34  940000.0         0   \n",
       "4       1  73.00  78.00     73.00    85.00  65.83  240000.0         0   \n",
       "\n",
       "   gender_M  ssc_b_Central  ...  hsc_s_Arts  hsc_s_Commerce  hsc_s_Science  \\\n",
       "0         1              1  ...           0               0              1   \n",
       "1         1              0  ...           0               0              1   \n",
       "2         0              0  ...           0               1              0   \n",
       "3         1              1  ...           0               1              0   \n",
       "4         1              1  ...           0               0              1   \n",
       "\n",
       "   degree_t_Comm&Mgmt  degree_t_Others  degree_t_Sci&Tech  workex_No  \\\n",
       "0                   1                0                  0          1   \n",
       "1                   0                0                  1          1   \n",
       "2                   1                0                  0          1   \n",
       "3                   1                0                  0          0   \n",
       "4                   0                0                  1          0   \n",
       "\n",
       "   workex_Yes  specialisation_Mkt&Fin  specialisation_Mkt&HR  \n",
       "0           0                       0                      1  \n",
       "1           0                       0                      1  \n",
       "2           0                       0                      1  \n",
       "3           1                       1                      0  \n",
       "4           1                       0                      1  \n",
       "\n",
       "[5 rows x 23 columns]"
      ]
     },
     "execution_count": 43,
     "metadata": {},
     "output_type": "execute_result"
    }
   ],
   "source": [
    "ts_dummies = pd.get_dummies(test_raw)   #encoding fatto con dummies anche per train\n",
    "ts_dummies.head()"
   ]
  },
  {
   "cell_type": "code",
   "execution_count": 44,
   "id": "ec654327",
   "metadata": {},
   "outputs": [
    {
     "data": {
      "text/plain": [
       "0"
      ]
     },
     "execution_count": 44,
     "metadata": {},
     "output_type": "execute_result"
    }
   ],
   "source": [
    "tr_dummies.duplicated().sum()  #mi dice quante linee sono duplicate"
   ]
  },
  {
   "cell_type": "code",
   "execution_count": 45,
   "id": "a4c4db4d",
   "metadata": {},
   "outputs": [
    {
     "data": {
      "text/plain": [
       "0"
      ]
     },
     "execution_count": 45,
     "metadata": {},
     "output_type": "execute_result"
    }
   ],
   "source": [
    "ts_dummies.duplicated().sum()  #mi dice quante linee sono duplicate"
   ]
  },
  {
   "cell_type": "markdown",
   "id": "73c6c55d",
   "metadata": {},
   "source": [
    "### Dopo un'opportuna analisi dei dati e della correlazione ho deciso di droppare alcune feature :\n",
    "\n",
    "#### -  Scelgo di togliere la feature \"salary\" per i motivi all'inizio elencati che riporto anche qui : quando verrà fatta la classificazione gli studenti con \"salary\"=0 saranno classificati direttamente come \"Not Placed\" sebbene sia giusto il ragionamento voglio determinare se essi sono \"Placed\" o \"Non Placed\" in base alle loro ulteriori caratteristiche fornite . Quindi elimino \"salary\". \n",
    "\n",
    "#### - Ho deciso di droppare il gender dato che la sua correlazione con status è molto vicina allo 0 , stessa cosa anche per hsc_b dopo l'analisi grafica.\n",
    "\n",
    "#### - Inoltre  elimino anche i valori relativi a hsc_s data la correlazione media fra di esse molto bassa e il loro approccio alla feature status vista  nel grafico relativo ad essa\n",
    "\n",
    "\n",
    "#### - Droppata anche mba_p ragionamento simile e rivedibile nello studio grafico fatto in precedenza , guardando la heatmap ho capito che deve essere droppata valore vicino allo 0 .\n"
   ]
  },
  {
   "cell_type": "code",
   "execution_count": 46,
   "id": "fe3b1cfe",
   "metadata": {},
   "outputs": [
    {
     "data": {
      "text/html": [
       "<div>\n",
       "<style scoped>\n",
       "    .dataframe tbody tr th:only-of-type {\n",
       "        vertical-align: middle;\n",
       "    }\n",
       "\n",
       "    .dataframe tbody tr th {\n",
       "        vertical-align: top;\n",
       "    }\n",
       "\n",
       "    .dataframe thead th {\n",
       "        text-align: right;\n",
       "    }\n",
       "</style>\n",
       "<table border=\"1\" class=\"dataframe\">\n",
       "  <thead>\n",
       "    <tr style=\"text-align: right;\">\n",
       "      <th></th>\n",
       "      <th>status</th>\n",
       "      <th>ssc_p</th>\n",
       "      <th>hsc_p</th>\n",
       "      <th>degree_p</th>\n",
       "      <th>etest_p</th>\n",
       "      <th>ssc_b_Central</th>\n",
       "      <th>ssc_b_Others</th>\n",
       "      <th>degree_t_Comm&amp;Mgmt</th>\n",
       "      <th>degree_t_Others</th>\n",
       "      <th>degree_t_Sci&amp;Tech</th>\n",
       "      <th>workex_No</th>\n",
       "      <th>workex_Yes</th>\n",
       "      <th>specialisation_Mkt&amp;Fin</th>\n",
       "      <th>specialisation_Mkt&amp;HR</th>\n",
       "    </tr>\n",
       "  </thead>\n",
       "  <tbody>\n",
       "    <tr>\n",
       "      <th>0</th>\n",
       "      <td>0</td>\n",
       "      <td>44.0</td>\n",
       "      <td>58.0</td>\n",
       "      <td>55.0</td>\n",
       "      <td>64.25</td>\n",
       "      <td>1</td>\n",
       "      <td>0</td>\n",
       "      <td>1</td>\n",
       "      <td>0</td>\n",
       "      <td>0</td>\n",
       "      <td>0</td>\n",
       "      <td>1</td>\n",
       "      <td>0</td>\n",
       "      <td>1</td>\n",
       "    </tr>\n",
       "    <tr>\n",
       "      <th>1</th>\n",
       "      <td>1</td>\n",
       "      <td>66.0</td>\n",
       "      <td>76.0</td>\n",
       "      <td>72.0</td>\n",
       "      <td>84.00</td>\n",
       "      <td>1</td>\n",
       "      <td>0</td>\n",
       "      <td>1</td>\n",
       "      <td>0</td>\n",
       "      <td>0</td>\n",
       "      <td>0</td>\n",
       "      <td>1</td>\n",
       "      <td>0</td>\n",
       "      <td>1</td>\n",
       "    </tr>\n",
       "    <tr>\n",
       "      <th>2</th>\n",
       "      <td>1</td>\n",
       "      <td>63.0</td>\n",
       "      <td>60.0</td>\n",
       "      <td>57.0</td>\n",
       "      <td>78.00</td>\n",
       "      <td>1</td>\n",
       "      <td>0</td>\n",
       "      <td>1</td>\n",
       "      <td>0</td>\n",
       "      <td>0</td>\n",
       "      <td>0</td>\n",
       "      <td>1</td>\n",
       "      <td>1</td>\n",
       "      <td>0</td>\n",
       "    </tr>\n",
       "    <tr>\n",
       "      <th>3</th>\n",
       "      <td>1</td>\n",
       "      <td>73.0</td>\n",
       "      <td>63.0</td>\n",
       "      <td>66.0</td>\n",
       "      <td>89.00</td>\n",
       "      <td>0</td>\n",
       "      <td>1</td>\n",
       "      <td>1</td>\n",
       "      <td>0</td>\n",
       "      <td>0</td>\n",
       "      <td>1</td>\n",
       "      <td>0</td>\n",
       "      <td>1</td>\n",
       "      <td>0</td>\n",
       "    </tr>\n",
       "    <tr>\n",
       "      <th>4</th>\n",
       "      <td>0</td>\n",
       "      <td>52.0</td>\n",
       "      <td>65.0</td>\n",
       "      <td>57.0</td>\n",
       "      <td>75.00</td>\n",
       "      <td>0</td>\n",
       "      <td>1</td>\n",
       "      <td>0</td>\n",
       "      <td>1</td>\n",
       "      <td>0</td>\n",
       "      <td>0</td>\n",
       "      <td>1</td>\n",
       "      <td>1</td>\n",
       "      <td>0</td>\n",
       "    </tr>\n",
       "  </tbody>\n",
       "</table>\n",
       "</div>"
      ],
      "text/plain": [
       "   status  ssc_p  hsc_p  degree_p  etest_p  ssc_b_Central  ssc_b_Others  \\\n",
       "0       0   44.0   58.0      55.0    64.25              1             0   \n",
       "1       1   66.0   76.0      72.0    84.00              1             0   \n",
       "2       1   63.0   60.0      57.0    78.00              1             0   \n",
       "3       1   73.0   63.0      66.0    89.00              0             1   \n",
       "4       0   52.0   65.0      57.0    75.00              0             1   \n",
       "\n",
       "   degree_t_Comm&Mgmt  degree_t_Others  degree_t_Sci&Tech  workex_No  \\\n",
       "0                   1                0                  0          0   \n",
       "1                   1                0                  0          0   \n",
       "2                   1                0                  0          0   \n",
       "3                   1                0                  0          1   \n",
       "4                   0                1                  0          0   \n",
       "\n",
       "   workex_Yes  specialisation_Mkt&Fin  specialisation_Mkt&HR  \n",
       "0           1                       0                      1  \n",
       "1           1                       0                      1  \n",
       "2           1                       1                      0  \n",
       "3           0                       1                      0  \n",
       "4           1                       1                      0  "
      ]
     },
     "execution_count": 46,
     "metadata": {},
     "output_type": "execute_result"
    }
   ],
   "source": [
    "tr= tr_dummies.drop([\"salary\",\"hsc_b_Others\",\"hsc_b_Central\", \"gender_M\",\"gender_F\",\"mba_p\" ,\"hsc_s_Arts\",\"hsc_s_Commerce\",\"hsc_s_Science\"], axis=1)\n",
    "tr.head()"
   ]
  },
  {
   "cell_type": "code",
   "execution_count": 47,
   "id": "abcf9a91",
   "metadata": {},
   "outputs": [
    {
     "data": {
      "text/html": [
       "<div>\n",
       "<style scoped>\n",
       "    .dataframe tbody tr th:only-of-type {\n",
       "        vertical-align: middle;\n",
       "    }\n",
       "\n",
       "    .dataframe tbody tr th {\n",
       "        vertical-align: top;\n",
       "    }\n",
       "\n",
       "    .dataframe thead th {\n",
       "        text-align: right;\n",
       "    }\n",
       "</style>\n",
       "<table border=\"1\" class=\"dataframe\">\n",
       "  <thead>\n",
       "    <tr style=\"text-align: right;\">\n",
       "      <th></th>\n",
       "      <th>status</th>\n",
       "      <th>ssc_p</th>\n",
       "      <th>hsc_p</th>\n",
       "      <th>degree_p</th>\n",
       "      <th>etest_p</th>\n",
       "      <th>ssc_b_Central</th>\n",
       "      <th>ssc_b_Others</th>\n",
       "      <th>degree_t_Comm&amp;Mgmt</th>\n",
       "      <th>degree_t_Others</th>\n",
       "      <th>degree_t_Sci&amp;Tech</th>\n",
       "      <th>workex_No</th>\n",
       "      <th>workex_Yes</th>\n",
       "      <th>specialisation_Mkt&amp;Fin</th>\n",
       "      <th>specialisation_Mkt&amp;HR</th>\n",
       "    </tr>\n",
       "  </thead>\n",
       "  <tbody>\n",
       "    <tr>\n",
       "      <th>0</th>\n",
       "      <td>1</td>\n",
       "      <td>65.00</td>\n",
       "      <td>68.00</td>\n",
       "      <td>69.00</td>\n",
       "      <td>53.70</td>\n",
       "      <td>1</td>\n",
       "      <td>0</td>\n",
       "      <td>1</td>\n",
       "      <td>0</td>\n",
       "      <td>0</td>\n",
       "      <td>1</td>\n",
       "      <td>0</td>\n",
       "      <td>0</td>\n",
       "      <td>1</td>\n",
       "    </tr>\n",
       "    <tr>\n",
       "      <th>1</th>\n",
       "      <td>0</td>\n",
       "      <td>59.96</td>\n",
       "      <td>42.16</td>\n",
       "      <td>61.26</td>\n",
       "      <td>54.48</td>\n",
       "      <td>0</td>\n",
       "      <td>1</td>\n",
       "      <td>0</td>\n",
       "      <td>0</td>\n",
       "      <td>1</td>\n",
       "      <td>1</td>\n",
       "      <td>0</td>\n",
       "      <td>0</td>\n",
       "      <td>1</td>\n",
       "    </tr>\n",
       "    <tr>\n",
       "      <th>2</th>\n",
       "      <td>0</td>\n",
       "      <td>40.89</td>\n",
       "      <td>45.83</td>\n",
       "      <td>53.00</td>\n",
       "      <td>71.20</td>\n",
       "      <td>0</td>\n",
       "      <td>1</td>\n",
       "      <td>1</td>\n",
       "      <td>0</td>\n",
       "      <td>0</td>\n",
       "      <td>1</td>\n",
       "      <td>0</td>\n",
       "      <td>0</td>\n",
       "      <td>1</td>\n",
       "    </tr>\n",
       "    <tr>\n",
       "      <th>3</th>\n",
       "      <td>1</td>\n",
       "      <td>60.80</td>\n",
       "      <td>68.40</td>\n",
       "      <td>64.60</td>\n",
       "      <td>82.66</td>\n",
       "      <td>1</td>\n",
       "      <td>0</td>\n",
       "      <td>1</td>\n",
       "      <td>0</td>\n",
       "      <td>0</td>\n",
       "      <td>0</td>\n",
       "      <td>1</td>\n",
       "      <td>1</td>\n",
       "      <td>0</td>\n",
       "    </tr>\n",
       "    <tr>\n",
       "      <th>4</th>\n",
       "      <td>1</td>\n",
       "      <td>73.00</td>\n",
       "      <td>78.00</td>\n",
       "      <td>73.00</td>\n",
       "      <td>85.00</td>\n",
       "      <td>1</td>\n",
       "      <td>0</td>\n",
       "      <td>0</td>\n",
       "      <td>0</td>\n",
       "      <td>1</td>\n",
       "      <td>0</td>\n",
       "      <td>1</td>\n",
       "      <td>0</td>\n",
       "      <td>1</td>\n",
       "    </tr>\n",
       "  </tbody>\n",
       "</table>\n",
       "</div>"
      ],
      "text/plain": [
       "   status  ssc_p  hsc_p  degree_p  etest_p  ssc_b_Central  ssc_b_Others  \\\n",
       "0       1  65.00  68.00     69.00    53.70              1             0   \n",
       "1       0  59.96  42.16     61.26    54.48              0             1   \n",
       "2       0  40.89  45.83     53.00    71.20              0             1   \n",
       "3       1  60.80  68.40     64.60    82.66              1             0   \n",
       "4       1  73.00  78.00     73.00    85.00              1             0   \n",
       "\n",
       "   degree_t_Comm&Mgmt  degree_t_Others  degree_t_Sci&Tech  workex_No  \\\n",
       "0                   1                0                  0          1   \n",
       "1                   0                0                  1          1   \n",
       "2                   1                0                  0          1   \n",
       "3                   1                0                  0          0   \n",
       "4                   0                0                  1          0   \n",
       "\n",
       "   workex_Yes  specialisation_Mkt&Fin  specialisation_Mkt&HR  \n",
       "0           0                       0                      1  \n",
       "1           0                       0                      1  \n",
       "2           0                       0                      1  \n",
       "3           1                       1                      0  \n",
       "4           1                       0                      1  "
      ]
     },
     "execution_count": 47,
     "metadata": {},
     "output_type": "execute_result"
    }
   ],
   "source": [
    "ts= ts_dummies.drop([\"salary\",\"hsc_b_Others\",\"hsc_b_Central\",\"gender_M\",\"gender_F\",\"mba_p\",\"hsc_s_Arts\",\"hsc_s_Commerce\",\"hsc_s_Science\"], axis=1)\n",
    "ts.head()"
   ]
  },
  {
   "cell_type": "markdown",
   "id": "b3ecefaa",
   "metadata": {},
   "source": [
    "# Addestramento dati "
   ]
  },
  {
   "cell_type": "code",
   "execution_count": 48,
   "id": "ee541d74",
   "metadata": {},
   "outputs": [],
   "source": [
    "# Normalizzo nell'intervallo [0,1]\n",
    "from sklearn.preprocessing import MinMaxScaler\n",
    "scaler = MinMaxScaler()\n",
    "\n",
    "names = tr.columns # nomi di tutte le colonne\n",
    "train_new = scaler.fit_transform(tr)\n",
    "train = pd.DataFrame(train_new, columns=names)\n",
    "\n",
    "names = ts.columns # nomi di tutte le colonne\n",
    "test_new = scaler.fit_transform(ts)\n",
    "test = pd.DataFrame(test_new, columns=names)\n"
   ]
  },
  {
   "cell_type": "code",
   "execution_count": 49,
   "id": "f7651b38",
   "metadata": {},
   "outputs": [],
   "source": [
    "x_train = train.drop([\"status\"], axis=1)\n",
    "y_train = train[\"status\"]\n",
    "\n",
    "x_test = test.drop([\"status\"], axis=1)\n",
    "y_test = test[\"status\"]"
   ]
  },
  {
   "cell_type": "code",
   "execution_count": 51,
   "id": "2575d8b1",
   "metadata": {},
   "outputs": [
    {
     "name": "stdout",
     "output_type": "stream",
     "text": [
      "Accuracy: 81.395\n"
     ]
    }
   ],
   "source": [
    "from sklearn.tree import DecisionTreeClassifier\n",
    "tree = DecisionTreeClassifier(criterion = 'entropy')\n",
    "tree.fit(x_train, y_train)\n",
    "\n",
    "print(\"Accuracy: {:.3f}\".format(tree.score(x_test, y_test)*100))"
   ]
  },
  {
   "cell_type": "markdown",
   "id": "da14cdbf",
   "metadata": {},
   "source": [
    "Ecco l'accuracy registrata.. non aggiungo commenti sul Decision Tree Classifier poichè è stato un argomento spiegato a lezione"
   ]
  },
  {
   "cell_type": "markdown",
   "id": "480c5faa",
   "metadata": {},
   "source": [
    "# Ulteriore algoritmo per addestrare i dati.\n",
    "vedendo cosa succede all'accuracy "
   ]
  },
  {
   "cell_type": "markdown",
   "id": "56273625",
   "metadata": {},
   "source": [
    "### Random Forest Classifier"
   ]
  },
  {
   "cell_type": "code",
   "execution_count": 52,
   "id": "f4962407",
   "metadata": {},
   "outputs": [
    {
     "data": {
      "text/plain": [
       "RandomForestClassifier()"
      ]
     },
     "execution_count": 52,
     "metadata": {},
     "output_type": "execute_result"
    }
   ],
   "source": [
    "from sklearn.ensemble import RandomForestClassifier\n",
    "from sklearn.metrics import accuracy_score\n",
    "\n",
    "rfc = RandomForestClassifier()\n",
    "rfc.fit(x_train, y_train)"
   ]
  },
  {
   "cell_type": "code",
   "execution_count": 53,
   "id": "8e45c200",
   "metadata": {},
   "outputs": [],
   "source": [
    "def evaluate(model, test_features, test_labels):\n",
    "    predictions = model.predict(test_features)\n",
    "    errors = abs(predictions - test_labels)\n",
    "    accuracy = accuracy_score(test_labels, predictions)\n",
    "   \n",
    "    print('PERFORMANCES :')\n",
    "    print('Average Error: {:0.4f} degrees.'.format(np.mean(errors)))\n",
    "    print('Accuracy = {:0.2f}%.'.format(accuracy*100))\n",
    "    print('\\nFinal Accuracy Value:')\n",
    "    return accuracy*100"
   ]
  },
  {
   "cell_type": "markdown",
   "id": "782e56dd",
   "metadata": {},
   "source": [
    "La funzione fit() crea il modello previsionale, ossia un classificatore che è in grado di classificare le istanze secondo l'addestramento ricevuto.\n",
    "La funzione evaluate calcola e restituisce tutti i valori utili per lo studio . Dopo l'addestramento sollecito il modello di predirre e classificare alcuni esempi di test (differenti da quelli di training) tramite la funzione pred() di Scikit-learn e verifico se risponde correttamente e li assegno alla variabile predictions. Successivamente calcolo gli errori e l'accuracy che ci indica la frazione dei campioni predetti correttamente."
   ]
  },
  {
   "cell_type": "code",
   "execution_count": 54,
   "id": "071c36ee",
   "metadata": {},
   "outputs": [
    {
     "name": "stdout",
     "output_type": "stream",
     "text": [
      "PERFORMANCES :\n",
      "Average Error: 0.0698 degrees.\n",
      "Accuracy = 93.02%.\n",
      "\n",
      "Final Accuracy Value:\n"
     ]
    },
    {
     "data": {
      "text/plain": [
       "93.02325581395348"
      ]
     },
     "execution_count": 54,
     "metadata": {},
     "output_type": "execute_result"
    }
   ],
   "source": [
    "evaluate(rfc, x_test, y_test)"
   ]
  },
  {
   "cell_type": "markdown",
   "id": "a6900c81",
   "metadata": {},
   "source": [
    "#### Alcune note sull'algoritmo Random Forest Classifier\n",
    "\n",
    "Random Forest Classifier consiste in centinaia di migliaia di alberi decisionali. Il numero di alberi dipende dalla natura del set di training e da altri parametri come il numero di classi (bean ,profondità).Il numero ottimale di alberi può essere trovato usando la “convalida incrociata”, dall’inglese cross-validation, per la divisione del set di dati. Altrimenti, può essere trovato osservando l'errore out-of-bug che è espresso in termini di errore di training e test. Dopo vengono calcolate le distanze per ogni coppia di casi. Quando due casi occupano lo stesso nodo target, la prossimità viene aumentata di uno per ciascun caso. Tuttavia, alla fine di ogni iterazione, i valori di prossimità vengono normalizzati dividendoli per il numero di alberi, che sono stati costruiti e specificati durante il periodo di allenamento. Il calcolo della distanza dei casi ha molti contributi per migliorare la previsione."
   ]
  },
  {
   "cell_type": "code",
   "execution_count": null,
   "id": "b722d81e",
   "metadata": {},
   "outputs": [],
   "source": []
  }
 ],
 "metadata": {
  "kernelspec": {
   "display_name": "Python 3",
   "language": "python",
   "name": "python3"
  },
  "language_info": {
   "codemirror_mode": {
    "name": "ipython",
    "version": 3
   },
   "file_extension": ".py",
   "mimetype": "text/x-python",
   "name": "python",
   "nbconvert_exporter": "python",
   "pygments_lexer": "ipython3",
   "version": "3.8.10"
  }
 },
 "nbformat": 4,
 "nbformat_minor": 5
}
